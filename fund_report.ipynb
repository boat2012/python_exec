{
 "cells": [
  {
   "source": [
    "### 基金的季度报告查找下载   \n",
    "2021年4月19日\n"
   ],
   "cell_type": "markdown",
   "metadata": {}
  },
  {
   "cell_type": "code",
   "execution_count": 1,
   "metadata": {},
   "outputs": [],
   "source": [
    "import requests\n",
    "import random\n",
    "from bs4 import BeautifulSoup as bs\n",
    "import time\n",
    "#import redis\n",
    "import re\n",
    "import json\n",
    "from tqdm.notebook import tqdm \n",
    "import pandas as pd\n",
    "from selenium import webdriver\n",
    "from selenium.webdriver.common.action_chains import ActionChains\n",
    "import pandas as pd\n",
    "header = {\"User-Agent\": 'Mozilla/5.0 (Windows NT 10.0; Win64; x64) AppleWebKit/537.36 (KHTML, like Gecko) '\n",
    "                                'Chrome/78.0.3904.108 Safari/537.36'}\n",
    "\n",
    "def downloadFILE_old(url,name):\n",
    "    try:\n",
    "        resp = requests.get(url=url,headers=headers,stream=True)\n",
    "        content_size = int(resp.headers['Content-Length'])/1024\n",
    "        with open(name, \"wb\") as f:\n",
    "            #print(\"Pkg total size is:\",content_size,'k,start...')\n",
    "            print(\"文件%s的大小是：%.2fK,开始下载...\" % (name,content_size))\n",
    "            for data in tqdm(iterable=resp.iter_content(1024),total=content_size,unit='k',desc=name):\n",
    "                f.write(data)\n",
    "        print(name + \"下载完成！\")\n",
    "    except Exception as e:\n",
    "        print(name + \"下载失败！\", e)"
   ]
  },
  {
   "cell_type": "code",
   "execution_count": 36,
   "metadata": {
    "tags": []
   },
   "outputs": [
    {
     "output_type": "stream",
     "name": "stdout",
     "text": [
      "0.73亿元（2021-03-31）\n"
     ]
    }
   ],
   "source": [
    "## 读取基金页面的规模\n",
    "def get_jjgm(jjcode):\n",
    "    timeout=10\n",
    "    url = f'http://fund.eastmoney.com/{jjcode}.html'\n",
    "    try:\n",
    "        page = requests.get(url, headers=header, timeout=timeout)\n",
    "        page.encoding = 'utf-8'\n",
    "        result = ('success', page.text)\n",
    "    except (requests.exceptions.ConnectionError, requests.exceptions.Timeout, requests.exceptions.HTTPError):\n",
    "        result = ('error', url)\n",
    "    page_context = result[1]\n",
    "    fund_scale = re.search(r'基金规模</a>：((?:\\d+(?:\\.\\d{2}|)|--)亿元.*?)<', page_context)\n",
    "    print(fund_scale.group(1))\n",
    "get_jjgm(\"168104\")    "
   ]
  },
  {
   "cell_type": "code",
   "execution_count": 6,
   "metadata": {},
   "outputs": [],
   "source": [
    "df_fund = pd.read_excel(\"300502基金持股.xls\")"
   ]
  },
  {
   "cell_type": "code",
   "execution_count": null,
   "metadata": {},
   "outputs": [],
   "source": [
    "fund_scale = re.search(r'基金规模</a>：((?:\\d+(?:\\.\\d{2}|)|--)亿元.*?)<', page_context)"
   ]
  },
  {
   "cell_type": "code",
   "execution_count": 7,
   "metadata": {},
   "outputs": [],
   "source": [
    "df_fund.code=df_fund.code.map(lambda x: \"%06d\"%x)\n",
    "fund_list = df_fund.code.tolist()"
   ]
  },
  {
   "cell_type": "code",
   "execution_count": 8,
   "metadata": {},
   "outputs": [],
   "source": [
    "#fund_list = df_fund.sort_values(by=\"s2004\",ascending=False).head(40).code.tolist()\n",
    "fund_list = df_fund.sort_values(by=\"s2004\",ascending=False).code.tolist()"
   ]
  },
  {
   "cell_type": "code",
   "execution_count": 3,
   "metadata": {},
   "outputs": [],
   "source": [
    "browser = webdriver.Chrome()\n",
    "jjcode = \"009062\"\n",
    "url = \"http://fundf10.eastmoney.com/ccbdxq_%s_300502.html\" % jjcode"
   ]
  },
  {
   "cell_type": "code",
   "execution_count": 4,
   "metadata": {},
   "outputs": [
    {
     "output_type": "stream",
     "name": "stdout",
     "text": [
      "基金 财通内需增长12个月定开混合 (009970) 持有300502的变动情况为：从113.55万股到今年一季报的113.55万股，增加了0.0万股  \n"
     ]
    }
   ],
   "source": [
    "def check_cg(jjcode,stockid):  #查找2020年12月31日到2021年1月31日两次季报对stockid的持股是否有增加\n",
    "    url = \"http://fundf10.eastmoney.com/ccbdxq_%s_300502.html\" % jjcode\n",
    "    browser.get(url)\n",
    "    title_element = browser.find_elements_by_xpath(\"//h4[@class='title']\")\n",
    "    if len(title_element)>0:\n",
    "        title = title_element[0].text\n",
    "    target = browser.find_elements_by_xpath(\"//div[@id='cctable']\")\n",
    "    df = pd.read_html(target[0].get_attribute(\"outerHTML\"))[0]\n",
    "    if df.loc[0,\"报告期\"]==\"2021-03-31\" :\n",
    "        s2004 = df.loc[df[\"报告期\"]==\"2020-12-31\",\"持股数（万股）\"].values[0]\n",
    "        s2101 = df.loc[df[\"报告期\"]==\"2021-03-31\",\"持股数（万股）\"].values[0]\n",
    "        print(f\"基金 {title} 持有{stockid}的变动情况为：从{s2004}万股到今年一季报的{s2101}万股，增加了{round(s2101-s2004,2)}万股  \")\n",
    "        #print(df)\n",
    "    else:\n",
    "        pass\n",
    "        #print(f\"基金{title}的一季报还没出\")\n",
    "check_cg(\"009970\",\"300502\")            "
   ]
  },
  {
   "cell_type": "code",
   "execution_count": null,
   "metadata": {},
   "outputs": [],
   "source": []
  },
  {
   "cell_type": "code",
   "execution_count": 8,
   "metadata": {},
   "outputs": [
    {
     "output_type": "stream",
     "name": "stdout",
     "text": [
      "基金 银华同力精选混合 (009394) 持有300502的变动情况为：从262.03万股到今年一季报的419.0万股，增加了156.97万股  \n",
      "基金 财通内需增长12个月定开混合 (009970) 持有300502的变动情况为：从113.55万股到今年一季报的113.55万股，增加了0.0万股  \n",
      "基金 银华创业板两年定期开放混合 (161838) 持有300502的变动情况为：从76.98万股到今年一季报的132.88万股，增加了55.9万股  \n",
      "基金 中邮信息产业灵活配置混合 (001227) 持有300502的变动情况为：从62.18万股到今年一季报的95.18万股，增加了33.0万股  \n",
      "基金 富国中证500指数(LOF) (161017) 持有300502的变动情况为：从54.85万股到今年一季报的63.15万股，增加了8.3万股  \n",
      "基金 财通科创主题3年封闭混合 (501085) 持有300502的变动情况为：从155.19万股到今年一季报的155.19万股，增加了0.0万股  \n",
      "基金 银华成长先锋混合 (180020) 持有300502的变动情况为：从17.01万股到今年一季报的46.62万股，增加了29.61万股  \n",
      "基金 华夏中证5G通信主题ETF (515050) 持有300502的变动情况为：从420.74万股到今年一季报的426.7万股，增加了5.96万股  \n",
      "基金 南方信息创新混合A (007490) 持有300502的变动情况为：从769.68万股到今年一季报的592.11万股，增加了-177.57万股  \n",
      "基金 南方多利增强债券C (202102) 持有300502的变动情况为：从3.79万股到今年一季报的3.79万股，增加了0.0万股  \n",
      "基金 中邮创新优势灵活配置混合 (001275) 持有300502的变动情况为：从13.5万股到今年一季报的18.5万股，增加了5.0万股  \n",
      "基金 南方养老2040三年持有混合(F (009572) 持有300502的变动情况为：从1.89万股到今年一季报的1.89万股，增加了0.0万股  \n",
      "基金 建信中证1000指数增强A (006165) 持有300502的变动情况为：从1.02万股到今年一季报的2.08万股，增加了1.06万股  \n",
      "基金 富国中证1000指数增强 (161039) 持有300502的变动情况为：从4.25万股到今年一季报的6.07万股，增加了1.82万股  \n",
      "基金 红土创新沪深300增强A (006698) 持有300502的变动情况为：从0.07万股到今年一季报的0.43万股，增加了0.36万股  \n",
      "基金 财通集成电路产业股票A (006502) 持有300502的变动情况为：从39.55万股到今年一季报的39.55万股，增加了0.0万股  \n",
      "基金 财通价值动量混合 (720001) 持有300502的变动情况为：从283.88万股到今年一季报的283.88万股，增加了0.0万股  \n",
      "基金 财通多策略福鑫定开混合 (501046) 持有300502的变动情况为：从32.67万股到今年一季报的32.67万股，增加了0.0万股  \n",
      "基金 财通成长优选混合 (001480) 持有300502的变动情况为：从283.88万股到今年一季报的283.88万股，增加了0.0万股  \n"
     ]
    }
   ],
   "source": [
    "for i in fund_list:\n",
    "    try:\n",
    "        check_cg(i,\"300502\")\n",
    "    except:\n",
    "        pass"
   ]
  },
  {
   "source": [
    "基金 南方信息创新混合A (007490) 持有300502的变动情况为：从769.68万股到今年一季报的592.11万股，增加了-177.57万股  \n",
    "基金 财通成长优选混合 (001480) 持有300502的变动情况为：从283.88万股到今年一季报的283.88万股，增加了0.0万股  \n",
    "基金 财通价值动量混合 (720001) 持有300502的变动情况为：从283.88万股到今年一季报的283.88万股，增加了0.0万股  \n",
    "基金 银华同力精选混合 (009394) 持有300502的变动情况为：从262.03万股到今年一季报的419.0万股，增加了156.97万股  \n",
    "基金 财通科创主题3年封闭混合 (501085) 持有300502的变动情况为：从155.19万股到今年一季报的155.19万股，增加了0.0万股  \n",
    "基金 财通内需增长12个月定开混合 (009970) 持有300502的变动情况为：从113.55万股到今年一季报的113.55万股，增加了0.0万股  \n",
    "基金 银华创业板两年定期开放混合 (161838) 持有300502的变动情况为：从76.98万股到今年一季报的132.88万股，增加了55.9万股  \n",
    "基金 中邮信息产业灵活配置混合 (001227) 持有300502的变动情况为：从62.18万股到今年一季报的95.18万股，增加了33.0万股  \n",
    "基金 富国中证500指数(LOF) (161017) 持有300502的变动情况为：从54.85万股到今年一季报的63.15万股，增加了8.3万股  \n",
    "基金 财通集成电路产业股票A (006502) 持有300502的变动情况为：从39.55万股到今年一季报的39.55万股，增加了0.0万股  \n",
    "基金 财通多策略福鑫定开混合 (501046) 持有300502的变动情况为：从32.67万股到今年一季报的32.67万股，增加了0.0万股  \n",
    "基金 银华成长先锋混合 (180020) 持有300502的变动情况为：从17.01万股到今年一季报的46.62万股，增加了29.61万股  \n",
    "基金 中邮创新优势灵活配置混合 (001275) 持有300502的变动情况为：从13.5万股到今年一季报的18.5万股，增加了5.0万股  \n",
    "基金 富国中证1000指数增强 (161039) 持有300502的变动情况为：从4.25万股到今年一季报的6.07万股，增加了1.82万股  \n",
    "基金 南方多利增强债券C (202102) 持有300502的变动情况为：从3.79万股到今年一季报的3.79万股，增加了0.0万股  \n",
    "基金 南方养老2040三年持有混合(F (009572) 持有300502的变动情况为：从1.89万股到今年一季报的1.89万股，增加了0.0万股  \n",
    "基金 建信中证1000指数增强A (006165) 持有300502的变动情况为：从1.02万股到今年一季报的2.08万股，增加了1.06万股  \n",
    "基金 红土创新沪深300增强A (006698) 持有300502的变动情况为：从0.07万股到今年一季报的0.43万股，增加了0.36万股  "
   ],
   "cell_type": "markdown",
   "metadata": {}
  },
  {
   "cell_type": "code",
   "execution_count": null,
   "metadata": {},
   "outputs": [],
   "source": []
  },
  {
   "cell_type": "code",
   "execution_count": 146,
   "metadata": {},
   "outputs": [],
   "source": [
    "#target = browser.find_elements_by_xpath(\"//div[@id='cctable']\")\n",
    "title = browser.find_elements_by_xpath(\"//h4[@class='title']\")"
   ]
  },
  {
   "cell_type": "code",
   "execution_count": 149,
   "metadata": {},
   "outputs": [
    {
     "output_type": "execute_result",
     "data": {
      "text/plain": [
       "'银华创业板两年定期开放混合 (161838)'"
      ]
     },
     "metadata": {},
     "execution_count": 149
    }
   ],
   "source": [
    "title[0].text"
   ]
  },
  {
   "cell_type": "code",
   "execution_count": 88,
   "metadata": {},
   "outputs": [],
   "source": [
    "df = pd.read_html(target[0].get_attribute(\"outerHTML\"))\n"
   ]
  },
  {
   "cell_type": "code",
   "execution_count": 108,
   "metadata": {},
   "outputs": [],
   "source": [
    "temp = df[0].loc[0,\"报告期\"]"
   ]
  },
  {
   "cell_type": "code",
   "execution_count": 111,
   "metadata": {},
   "outputs": [
    {
     "output_type": "stream",
     "name": "stdout",
     "text": [
      "基金f2020-12-31的一季报还没出\n"
     ]
    }
   ],
   "source": [
    "print(f\"基金{temp}的一季报还没出\")"
   ]
  },
  {
   "cell_type": "code",
   "execution_count": 103,
   "metadata": {},
   "outputs": [
    {
     "output_type": "execute_result",
     "data": {
      "text/plain": [
       "1"
      ]
     },
     "metadata": {},
     "execution_count": 103
    }
   ],
   "source": [
    "len(df[0][df[0][\"报告期\"]==\"2020-12-31\"])"
   ]
  },
  {
   "cell_type": "code",
   "execution_count": 66,
   "metadata": {},
   "outputs": [],
   "source": [
    "def check_fund(fundcode):  # 看看基金是否有一季报\n",
    "    url = \"http://fundf10.eastmoney.com/jjgg_%s_3.html\" % fundcode\n",
    "    browser.get(url)\n",
    "    #soup = bs(browser.page_source, \"html.parser\")\n",
    "    target = browser.find_elements_by_xpath(\"//td/a[contains(text(),'2021年第1季度报告')]\")  #找出含有季度报告的数据 表格里的A\n",
    "    if len(target)>0:\n",
    "        print(fundcode)"
   ]
  },
  {
   "cell_type": "code",
   "execution_count": 67,
   "metadata": {},
   "outputs": [
    {
     "output_type": "error",
     "ename": "WebDriverException",
     "evalue": "Message: chrome not reachable\n  (Session info: chrome=89.0.4389.128)\n",
     "traceback": [
      "\u001b[1;31m---------------------------------------------------------------------------\u001b[0m",
      "\u001b[1;31mWebDriverException\u001b[0m                        Traceback (most recent call last)",
      "\u001b[1;32m<ipython-input-67-44bf3c8d6532>\u001b[0m in \u001b[0;36m<module>\u001b[1;34m()\u001b[0m\n\u001b[0;32m      1\u001b[0m \u001b[1;32mfor\u001b[0m \u001b[0mi\u001b[0m \u001b[1;32min\u001b[0m \u001b[0mfund_list\u001b[0m\u001b[1;33m:\u001b[0m\u001b[1;33m\u001b[0m\u001b[0m\n\u001b[1;32m----> 2\u001b[1;33m     \u001b[0mcheck_fund\u001b[0m\u001b[1;33m(\u001b[0m\u001b[0mi\u001b[0m\u001b[1;33m)\u001b[0m\u001b[1;33m\u001b[0m\u001b[0m\n\u001b[0m",
      "\u001b[1;32m<ipython-input-66-f69c7bcbb928>\u001b[0m in \u001b[0;36mcheck_fund\u001b[1;34m(fundcode)\u001b[0m\n\u001b[0;32m      1\u001b[0m \u001b[1;32mdef\u001b[0m \u001b[0mcheck_fund\u001b[0m\u001b[1;33m(\u001b[0m\u001b[0mfundcode\u001b[0m\u001b[1;33m)\u001b[0m\u001b[1;33m:\u001b[0m  \u001b[1;31m# 看看基金是否有一季报\u001b[0m\u001b[1;33m\u001b[0m\u001b[0m\n\u001b[0;32m      2\u001b[0m     \u001b[0murl\u001b[0m \u001b[1;33m=\u001b[0m \u001b[1;34m\"http://fundf10.eastmoney.com/jjgg_%s_3.html\"\u001b[0m \u001b[1;33m%\u001b[0m \u001b[0mfundcode\u001b[0m\u001b[1;33m\u001b[0m\u001b[0m\n\u001b[1;32m----> 3\u001b[1;33m     \u001b[0mbrowser\u001b[0m\u001b[1;33m.\u001b[0m\u001b[0mget\u001b[0m\u001b[1;33m(\u001b[0m\u001b[0murl\u001b[0m\u001b[1;33m)\u001b[0m\u001b[1;33m\u001b[0m\u001b[0m\n\u001b[0m\u001b[0;32m      4\u001b[0m     \u001b[1;31m#soup = bs(browser.page_source, \"html.parser\")\u001b[0m\u001b[1;33m\u001b[0m\u001b[1;33m\u001b[0m\u001b[0m\n\u001b[0;32m      5\u001b[0m     \u001b[0mtarget\u001b[0m \u001b[1;33m=\u001b[0m \u001b[0mbrowser\u001b[0m\u001b[1;33m.\u001b[0m\u001b[0mfind_elements_by_xpath\u001b[0m\u001b[1;33m(\u001b[0m\u001b[1;34m\"//td/a[contains(text(),'2021年第1季度报告')]\"\u001b[0m\u001b[1;33m)\u001b[0m  \u001b[1;31m#找出含有季度报告的数据 表格里的A\u001b[0m\u001b[1;33m\u001b[0m\u001b[0m\n",
      "\u001b[1;32mC:\\ProgramData\\Anaconda3_64\\lib\\site-packages\\selenium\\webdriver\\remote\\webdriver.py\u001b[0m in \u001b[0;36mget\u001b[1;34m(self, url)\u001b[0m\n\u001b[0;32m    331\u001b[0m         \u001b[0mLoads\u001b[0m \u001b[0ma\u001b[0m \u001b[0mweb\u001b[0m \u001b[0mpage\u001b[0m \u001b[1;32min\u001b[0m \u001b[0mthe\u001b[0m \u001b[0mcurrent\u001b[0m \u001b[0mbrowser\u001b[0m \u001b[0msession\u001b[0m\u001b[1;33m.\u001b[0m\u001b[1;33m\u001b[0m\u001b[0m\n\u001b[0;32m    332\u001b[0m         \"\"\"\n\u001b[1;32m--> 333\u001b[1;33m         \u001b[0mself\u001b[0m\u001b[1;33m.\u001b[0m\u001b[0mexecute\u001b[0m\u001b[1;33m(\u001b[0m\u001b[0mCommand\u001b[0m\u001b[1;33m.\u001b[0m\u001b[0mGET\u001b[0m\u001b[1;33m,\u001b[0m \u001b[1;33m{\u001b[0m\u001b[1;34m'url'\u001b[0m\u001b[1;33m:\u001b[0m \u001b[0murl\u001b[0m\u001b[1;33m}\u001b[0m\u001b[1;33m)\u001b[0m\u001b[1;33m\u001b[0m\u001b[0m\n\u001b[0m\u001b[0;32m    334\u001b[0m \u001b[1;33m\u001b[0m\u001b[0m\n\u001b[0;32m    335\u001b[0m     \u001b[1;33m@\u001b[0m\u001b[0mproperty\u001b[0m\u001b[1;33m\u001b[0m\u001b[0m\n",
      "\u001b[1;32mC:\\ProgramData\\Anaconda3_64\\lib\\site-packages\\selenium\\webdriver\\remote\\webdriver.py\u001b[0m in \u001b[0;36mexecute\u001b[1;34m(self, driver_command, params)\u001b[0m\n\u001b[0;32m    319\u001b[0m         \u001b[0mresponse\u001b[0m \u001b[1;33m=\u001b[0m \u001b[0mself\u001b[0m\u001b[1;33m.\u001b[0m\u001b[0mcommand_executor\u001b[0m\u001b[1;33m.\u001b[0m\u001b[0mexecute\u001b[0m\u001b[1;33m(\u001b[0m\u001b[0mdriver_command\u001b[0m\u001b[1;33m,\u001b[0m \u001b[0mparams\u001b[0m\u001b[1;33m)\u001b[0m\u001b[1;33m\u001b[0m\u001b[0m\n\u001b[0;32m    320\u001b[0m         \u001b[1;32mif\u001b[0m \u001b[0mresponse\u001b[0m\u001b[1;33m:\u001b[0m\u001b[1;33m\u001b[0m\u001b[0m\n\u001b[1;32m--> 321\u001b[1;33m             \u001b[0mself\u001b[0m\u001b[1;33m.\u001b[0m\u001b[0merror_handler\u001b[0m\u001b[1;33m.\u001b[0m\u001b[0mcheck_response\u001b[0m\u001b[1;33m(\u001b[0m\u001b[0mresponse\u001b[0m\u001b[1;33m)\u001b[0m\u001b[1;33m\u001b[0m\u001b[0m\n\u001b[0m\u001b[0;32m    322\u001b[0m             response['value'] = self._unwrap_value(\n\u001b[0;32m    323\u001b[0m                 response.get('value', None))\n",
      "\u001b[1;32mC:\\ProgramData\\Anaconda3_64\\lib\\site-packages\\selenium\\webdriver\\remote\\errorhandler.py\u001b[0m in \u001b[0;36mcheck_response\u001b[1;34m(self, response)\u001b[0m\n\u001b[0;32m    240\u001b[0m                 \u001b[0malert_text\u001b[0m \u001b[1;33m=\u001b[0m \u001b[0mvalue\u001b[0m\u001b[1;33m[\u001b[0m\u001b[1;34m'alert'\u001b[0m\u001b[1;33m]\u001b[0m\u001b[1;33m.\u001b[0m\u001b[0mget\u001b[0m\u001b[1;33m(\u001b[0m\u001b[1;34m'text'\u001b[0m\u001b[1;33m)\u001b[0m\u001b[1;33m\u001b[0m\u001b[0m\n\u001b[0;32m    241\u001b[0m             \u001b[1;32mraise\u001b[0m \u001b[0mexception_class\u001b[0m\u001b[1;33m(\u001b[0m\u001b[0mmessage\u001b[0m\u001b[1;33m,\u001b[0m \u001b[0mscreen\u001b[0m\u001b[1;33m,\u001b[0m \u001b[0mstacktrace\u001b[0m\u001b[1;33m,\u001b[0m \u001b[0malert_text\u001b[0m\u001b[1;33m)\u001b[0m\u001b[1;33m\u001b[0m\u001b[0m\n\u001b[1;32m--> 242\u001b[1;33m         \u001b[1;32mraise\u001b[0m \u001b[0mexception_class\u001b[0m\u001b[1;33m(\u001b[0m\u001b[0mmessage\u001b[0m\u001b[1;33m,\u001b[0m \u001b[0mscreen\u001b[0m\u001b[1;33m,\u001b[0m \u001b[0mstacktrace\u001b[0m\u001b[1;33m)\u001b[0m\u001b[1;33m\u001b[0m\u001b[0m\n\u001b[0m\u001b[0;32m    243\u001b[0m \u001b[1;33m\u001b[0m\u001b[0m\n\u001b[0;32m    244\u001b[0m     \u001b[1;32mdef\u001b[0m \u001b[0m_value_or_default\u001b[0m\u001b[1;33m(\u001b[0m\u001b[0mself\u001b[0m\u001b[1;33m,\u001b[0m \u001b[0mobj\u001b[0m\u001b[1;33m,\u001b[0m \u001b[0mkey\u001b[0m\u001b[1;33m,\u001b[0m \u001b[0mdefault\u001b[0m\u001b[1;33m)\u001b[0m\u001b[1;33m:\u001b[0m\u001b[1;33m\u001b[0m\u001b[0m\n",
      "\u001b[1;31mWebDriverException\u001b[0m: Message: chrome not reachable\n  (Session info: chrome=89.0.4389.128)\n"
     ]
    }
   ],
   "source": [
    "for i in fund_list:\n",
    "    check_fund(i)"
   ]
  },
  {
   "cell_type": "code",
   "execution_count": 43,
   "metadata": {},
   "outputs": [
    {
     "output_type": "stream",
     "name": "stdout",
     "text": [
      "005827\n"
     ]
    }
   ],
   "source": [
    "\n",
    "\n",
    "check_fund(\"005827\")"
   ]
  },
  {
   "cell_type": "code",
   "execution_count": 9,
   "metadata": {
    "tags": []
   },
   "outputs": [],
   "source": [
    "# 获取所有股票的名字，存入当地文件\n",
    " \n",
    "def get_stock_names():\n",
    "    \"\"\"\n",
    "    通过东方财富网上爬取股票的名称代码,并存入redis数据库和本地txt文档\n",
    "    \"\"\"\n",
    "    #rds = redis.from_url('redis://:666666@192.168.3.98:6379', db=1, decode_responses=True)   # 连接redis db1\n",
    " \n",
    "    url = \"http://quote.eastmoney.com/stocklist.html\"\n",
    "    headers = {\n",
    "            'Referer': 'http://quote.eastmoney.com/center/gridlist.html',\n",
    "            'User-Agent': 'Mozilla/5.0 (Windows NT 6.1; Win64; x64) AppleWebKit/537.36 (KHTML, like Gecko) Chrome/75.0.3770.100 Safari/537.36'\n",
    "        }\n",
    " \n",
    "    response = requests.get(url, headers=headers).content.decode('utf-8')   # 网站编码为gbk 需要解码\n",
    "    #print(response)\n",
    "    soup = bs(response, 'lxml')\n",
    "    #print(soup.text)\n",
    "    all_ul = soup.find('table', id='table_wrapper-table').find_all('ul')   # 获取两个ul 标签数据\n",
    "    with open('stock_names.txt', 'w+', encoding='utf-8') as f: \n",
    "        for ul in all_ul:\n",
    "            all_a = ul.find_all('a')            # 获取ul 下的所有的a 标签\n",
    "            for a in all_a:\n",
    "                #rds.rpush('stock_names', a.text)       # a.text 为a标签中的text数据  rpush将数据右侧插入数据库\n",
    "                print(a.text)\n",
    "                f.write(a.text + '\\n')\n",
    "get_stock_names()                "
   ]
  },
  {
   "cell_type": "code",
   "execution_count": null,
   "metadata": {},
   "outputs": [],
   "source": []
  },
  {
   "cell_type": "code",
   "execution_count": null,
   "metadata": {},
   "outputs": [],
   "source": []
  },
  {
   "cell_type": "code",
   "execution_count": 6,
   "metadata": {},
   "outputs": [],
   "source": []
  },
  {
   "cell_type": "code",
   "execution_count": 7,
   "metadata": {},
   "outputs": [],
   "source": [
    "url = \"http://fundf10.eastmoney.com/jjgg_007490_3.html\"\n",
    "headers = {\n",
    "        'Referer': 'http://quote.eastmoney.com/center/gridlist.html',\n",
    "        'User-Agent': 'Mozilla/5.0 (Windows NT 6.1; Win64; x64) AppleWebKit/537.36 (KHTML, like Gecko) Chrome/75.0.3770.100 Safari/537.36'\n",
    "    }\n",
    "\n",
    "response = requests.get(url, headers=headers).content.decode('utf-8')   # 网站编码为gbk 需要解码\n",
    "#print(response)\n",
    "soup = bs(response, 'lxml')"
   ]
  },
  {
   "cell_type": "code",
   "execution_count": 10,
   "metadata": {
    "tags": []
   },
   "outputs": [],
   "source": [
    "with open('temp', 'w', encoding='utf-8') as f: \n",
    "    f.write(response)"
   ]
  },
  {
   "cell_type": "code",
   "execution_count": 11,
   "metadata": {},
   "outputs": [
    {
     "output_type": "error",
     "ename": "WebDriverException",
     "evalue": "Message: 'IEDriverServer.exe' executable needs to be in PATH. Please download from http://selenium-release.storage.googleapis.com/index.html and read up at https://github.com/SeleniumHQ/selenium/wiki/InternetExplorerDriver\n",
     "traceback": [
      "\u001b[1;31m---------------------------------------------------------------------------\u001b[0m",
      "\u001b[1;31mFileNotFoundError\u001b[0m                         Traceback (most recent call last)",
      "\u001b[1;32mD:\\Anaconda\\lib\\site-packages\\selenium\\webdriver\\common\\service.py\u001b[0m in \u001b[0;36mstart\u001b[1;34m(self)\u001b[0m\n\u001b[0;32m     75\u001b[0m                                             \u001b[0mstderr\u001b[0m\u001b[1;33m=\u001b[0m\u001b[0mself\u001b[0m\u001b[1;33m.\u001b[0m\u001b[0mlog_file\u001b[0m\u001b[1;33m,\u001b[0m\u001b[1;33m\u001b[0m\u001b[1;33m\u001b[0m\u001b[0m\n\u001b[1;32m---> 76\u001b[1;33m                                             stdin=PIPE)\n\u001b[0m\u001b[0;32m     77\u001b[0m         \u001b[1;32mexcept\u001b[0m \u001b[0mTypeError\u001b[0m\u001b[1;33m:\u001b[0m\u001b[1;33m\u001b[0m\u001b[1;33m\u001b[0m\u001b[0m\n",
      "\u001b[1;32mD:\\Anaconda\\lib\\subprocess.py\u001b[0m in \u001b[0;36m__init__\u001b[1;34m(self, args, bufsize, executable, stdin, stdout, stderr, preexec_fn, close_fds, shell, cwd, env, universal_newlines, startupinfo, creationflags, restore_signals, start_new_session, pass_fds, encoding, errors, text)\u001b[0m\n\u001b[0;32m    799\u001b[0m                                 \u001b[0merrread\u001b[0m\u001b[1;33m,\u001b[0m \u001b[0merrwrite\u001b[0m\u001b[1;33m,\u001b[0m\u001b[1;33m\u001b[0m\u001b[1;33m\u001b[0m\u001b[0m\n\u001b[1;32m--> 800\u001b[1;33m                                 restore_signals, start_new_session)\n\u001b[0m\u001b[0;32m    801\u001b[0m         \u001b[1;32mexcept\u001b[0m\u001b[1;33m:\u001b[0m\u001b[1;33m\u001b[0m\u001b[1;33m\u001b[0m\u001b[0m\n",
      "\u001b[1;32mD:\\Anaconda\\lib\\subprocess.py\u001b[0m in \u001b[0;36m_execute_child\u001b[1;34m(self, args, executable, preexec_fn, close_fds, pass_fds, cwd, env, startupinfo, creationflags, shell, p2cread, p2cwrite, c2pread, c2pwrite, errread, errwrite, unused_restore_signals, unused_start_new_session)\u001b[0m\n\u001b[0;32m   1206\u001b[0m                                          \u001b[0mos\u001b[0m\u001b[1;33m.\u001b[0m\u001b[0mfspath\u001b[0m\u001b[1;33m(\u001b[0m\u001b[0mcwd\u001b[0m\u001b[1;33m)\u001b[0m \u001b[1;32mif\u001b[0m \u001b[0mcwd\u001b[0m \u001b[1;32mis\u001b[0m \u001b[1;32mnot\u001b[0m \u001b[1;32mNone\u001b[0m \u001b[1;32melse\u001b[0m \u001b[1;32mNone\u001b[0m\u001b[1;33m,\u001b[0m\u001b[1;33m\u001b[0m\u001b[1;33m\u001b[0m\u001b[0m\n\u001b[1;32m-> 1207\u001b[1;33m                                          startupinfo)\n\u001b[0m\u001b[0;32m   1208\u001b[0m             \u001b[1;32mfinally\u001b[0m\u001b[1;33m:\u001b[0m\u001b[1;33m\u001b[0m\u001b[1;33m\u001b[0m\u001b[0m\n",
      "\u001b[1;31mFileNotFoundError\u001b[0m: [WinError 2] 系统找不到指定的文件。",
      "\nDuring handling of the above exception, another exception occurred:\n",
      "\u001b[1;31mWebDriverException\u001b[0m                        Traceback (most recent call last)",
      "\u001b[1;32m<ipython-input-11-3108d743c01b>\u001b[0m in \u001b[0;36m<module>\u001b[1;34m\u001b[0m\n\u001b[1;32m----> 1\u001b[1;33m \u001b[0mdriver\u001b[0m \u001b[1;33m=\u001b[0m \u001b[0mwebdriver\u001b[0m\u001b[1;33m.\u001b[0m\u001b[0mIe\u001b[0m\u001b[1;33m(\u001b[0m\u001b[1;33m)\u001b[0m\u001b[1;33m\u001b[0m\u001b[1;33m\u001b[0m\u001b[0m\n\u001b[0m\u001b[0;32m      2\u001b[0m \u001b[0mdriver\u001b[0m\u001b[1;33m.\u001b[0m\u001b[0mget\u001b[0m\u001b[1;33m(\u001b[0m\u001b[0murl\u001b[0m\u001b[1;33m)\u001b[0m\u001b[1;33m\u001b[0m\u001b[1;33m\u001b[0m\u001b[0m\n",
      "\u001b[1;32mD:\\Anaconda\\lib\\site-packages\\selenium\\webdriver\\ie\\webdriver.py\u001b[0m in \u001b[0;36m__init__\u001b[1;34m(self, executable_path, capabilities, port, timeout, host, log_level, service_log_path, options, ie_options, desired_capabilities, log_file, keep_alive)\u001b[0m\n\u001b[0;32m     89\u001b[0m             log_file=service_log_path)\n\u001b[0;32m     90\u001b[0m \u001b[1;33m\u001b[0m\u001b[0m\n\u001b[1;32m---> 91\u001b[1;33m         \u001b[0mself\u001b[0m\u001b[1;33m.\u001b[0m\u001b[0miedriver\u001b[0m\u001b[1;33m.\u001b[0m\u001b[0mstart\u001b[0m\u001b[1;33m(\u001b[0m\u001b[1;33m)\u001b[0m\u001b[1;33m\u001b[0m\u001b[1;33m\u001b[0m\u001b[0m\n\u001b[0m\u001b[0;32m     92\u001b[0m \u001b[1;33m\u001b[0m\u001b[0m\n\u001b[0;32m     93\u001b[0m         RemoteWebDriver.__init__(\n",
      "\u001b[1;32mD:\\Anaconda\\lib\\site-packages\\selenium\\webdriver\\common\\service.py\u001b[0m in \u001b[0;36mstart\u001b[1;34m(self)\u001b[0m\n\u001b[0;32m     81\u001b[0m                 raise WebDriverException(\n\u001b[0;32m     82\u001b[0m                     \"'%s' executable needs to be in PATH. %s\" % (\n\u001b[1;32m---> 83\u001b[1;33m                         os.path.basename(self.path), self.start_error_message)\n\u001b[0m\u001b[0;32m     84\u001b[0m                 )\n\u001b[0;32m     85\u001b[0m             \u001b[1;32melif\u001b[0m \u001b[0merr\u001b[0m\u001b[1;33m.\u001b[0m\u001b[0merrno\u001b[0m \u001b[1;33m==\u001b[0m \u001b[0merrno\u001b[0m\u001b[1;33m.\u001b[0m\u001b[0mEACCES\u001b[0m\u001b[1;33m:\u001b[0m\u001b[1;33m\u001b[0m\u001b[1;33m\u001b[0m\u001b[0m\n",
      "\u001b[1;31mWebDriverException\u001b[0m: Message: 'IEDriverServer.exe' executable needs to be in PATH. Please download from http://selenium-release.storage.googleapis.com/index.html and read up at https://github.com/SeleniumHQ/selenium/wiki/InternetExplorerDriver\n"
     ]
    }
   ],
   "source": [
    "driver = webdriver.Ie()\n",
    "driver.get(url)"
   ]
  },
  {
   "cell_type": "code",
   "execution_count": 14,
   "metadata": {},
   "outputs": [],
   "source": []
  },
  {
   "cell_type": "code",
   "execution_count": 35,
   "metadata": {},
   "outputs": [],
   "source": [
    "#chrome_path = \"E:\\\\Download\\\\ChromeDownload\\\\chromedriver_win32\\\\chromedriver.exe\"\n",
    "browser = webdriver.Chrome()"
   ]
  },
  {
   "cell_type": "code",
   "execution_count": 38,
   "metadata": {},
   "outputs": [],
   "source": []
  },
  {
   "cell_type": "code",
   "execution_count": 37,
   "metadata": {},
   "outputs": [],
   "source": [
    "url = \"http://fundf10.eastmoney.com/jjgg_%s_3.html\" % \"007490\"\n",
    "browser.get(url)\n",
    "target = browser.find_elements_by_xpath(\"//td/a[contains(text(),'2021年1季度报告')]\") \n",
    "if len(target)>0:\n",
    "    print(\"007490\")"
   ]
  },
  {
   "cell_type": "code",
   "execution_count": 34,
   "metadata": {},
   "outputs": [
    {
     "output_type": "error",
     "ename": "NoSuchWindowException",
     "evalue": "Message: Unable to get browser\n",
     "traceback": [
      "\u001b[1;31m---------------------------------------------------------------------------\u001b[0m",
      "\u001b[1;31mNoSuchWindowException\u001b[0m                     Traceback (most recent call last)",
      "\u001b[1;32m<ipython-input-34-4c232146f759>\u001b[0m in \u001b[0;36m<module>\u001b[1;34m()\u001b[0m\n\u001b[0;32m      1\u001b[0m \u001b[1;31m#driver.find_elements_by_xpath(\"//*[contains(text(), 'My Button')]\")\u001b[0m\u001b[1;33m\u001b[0m\u001b[1;33m\u001b[0m\u001b[0m\n\u001b[0;32m      2\u001b[0m \u001b[1;31m#target = browser.find_elements_by_xpath(\"//td/a[contains(text(),'季度报告')]/following-sibling::a\")\u001b[0m\u001b[1;33m\u001b[0m\u001b[1;33m\u001b[0m\u001b[0m\n\u001b[1;32m----> 3\u001b[1;33m \u001b[0mbrowser\u001b[0m\u001b[1;33m.\u001b[0m\u001b[0mget\u001b[0m\u001b[1;33m(\u001b[0m\u001b[0murl\u001b[0m\u001b[1;33m)\u001b[0m\u001b[1;33m\u001b[0m\u001b[0m\n\u001b[0m",
      "\u001b[1;32mC:\\ProgramData\\Anaconda3_64\\lib\\site-packages\\selenium\\webdriver\\remote\\webdriver.py\u001b[0m in \u001b[0;36mget\u001b[1;34m(self, url)\u001b[0m\n\u001b[0;32m    331\u001b[0m         \u001b[0mLoads\u001b[0m \u001b[0ma\u001b[0m \u001b[0mweb\u001b[0m \u001b[0mpage\u001b[0m \u001b[1;32min\u001b[0m \u001b[0mthe\u001b[0m \u001b[0mcurrent\u001b[0m \u001b[0mbrowser\u001b[0m \u001b[0msession\u001b[0m\u001b[1;33m.\u001b[0m\u001b[1;33m\u001b[0m\u001b[0m\n\u001b[0;32m    332\u001b[0m         \"\"\"\n\u001b[1;32m--> 333\u001b[1;33m         \u001b[0mself\u001b[0m\u001b[1;33m.\u001b[0m\u001b[0mexecute\u001b[0m\u001b[1;33m(\u001b[0m\u001b[0mCommand\u001b[0m\u001b[1;33m.\u001b[0m\u001b[0mGET\u001b[0m\u001b[1;33m,\u001b[0m \u001b[1;33m{\u001b[0m\u001b[1;34m'url'\u001b[0m\u001b[1;33m:\u001b[0m \u001b[0murl\u001b[0m\u001b[1;33m}\u001b[0m\u001b[1;33m)\u001b[0m\u001b[1;33m\u001b[0m\u001b[0m\n\u001b[0m\u001b[0;32m    334\u001b[0m \u001b[1;33m\u001b[0m\u001b[0m\n\u001b[0;32m    335\u001b[0m     \u001b[1;33m@\u001b[0m\u001b[0mproperty\u001b[0m\u001b[1;33m\u001b[0m\u001b[0m\n",
      "\u001b[1;32mC:\\ProgramData\\Anaconda3_64\\lib\\site-packages\\selenium\\webdriver\\remote\\webdriver.py\u001b[0m in \u001b[0;36mexecute\u001b[1;34m(self, driver_command, params)\u001b[0m\n\u001b[0;32m    319\u001b[0m         \u001b[0mresponse\u001b[0m \u001b[1;33m=\u001b[0m \u001b[0mself\u001b[0m\u001b[1;33m.\u001b[0m\u001b[0mcommand_executor\u001b[0m\u001b[1;33m.\u001b[0m\u001b[0mexecute\u001b[0m\u001b[1;33m(\u001b[0m\u001b[0mdriver_command\u001b[0m\u001b[1;33m,\u001b[0m \u001b[0mparams\u001b[0m\u001b[1;33m)\u001b[0m\u001b[1;33m\u001b[0m\u001b[0m\n\u001b[0;32m    320\u001b[0m         \u001b[1;32mif\u001b[0m \u001b[0mresponse\u001b[0m\u001b[1;33m:\u001b[0m\u001b[1;33m\u001b[0m\u001b[0m\n\u001b[1;32m--> 321\u001b[1;33m             \u001b[0mself\u001b[0m\u001b[1;33m.\u001b[0m\u001b[0merror_handler\u001b[0m\u001b[1;33m.\u001b[0m\u001b[0mcheck_response\u001b[0m\u001b[1;33m(\u001b[0m\u001b[0mresponse\u001b[0m\u001b[1;33m)\u001b[0m\u001b[1;33m\u001b[0m\u001b[0m\n\u001b[0m\u001b[0;32m    322\u001b[0m             response['value'] = self._unwrap_value(\n\u001b[0;32m    323\u001b[0m                 response.get('value', None))\n",
      "\u001b[1;32mC:\\ProgramData\\Anaconda3_64\\lib\\site-packages\\selenium\\webdriver\\remote\\errorhandler.py\u001b[0m in \u001b[0;36mcheck_response\u001b[1;34m(self, response)\u001b[0m\n\u001b[0;32m    240\u001b[0m                 \u001b[0malert_text\u001b[0m \u001b[1;33m=\u001b[0m \u001b[0mvalue\u001b[0m\u001b[1;33m[\u001b[0m\u001b[1;34m'alert'\u001b[0m\u001b[1;33m]\u001b[0m\u001b[1;33m.\u001b[0m\u001b[0mget\u001b[0m\u001b[1;33m(\u001b[0m\u001b[1;34m'text'\u001b[0m\u001b[1;33m)\u001b[0m\u001b[1;33m\u001b[0m\u001b[0m\n\u001b[0;32m    241\u001b[0m             \u001b[1;32mraise\u001b[0m \u001b[0mexception_class\u001b[0m\u001b[1;33m(\u001b[0m\u001b[0mmessage\u001b[0m\u001b[1;33m,\u001b[0m \u001b[0mscreen\u001b[0m\u001b[1;33m,\u001b[0m \u001b[0mstacktrace\u001b[0m\u001b[1;33m,\u001b[0m \u001b[0malert_text\u001b[0m\u001b[1;33m)\u001b[0m\u001b[1;33m\u001b[0m\u001b[0m\n\u001b[1;32m--> 242\u001b[1;33m         \u001b[1;32mraise\u001b[0m \u001b[0mexception_class\u001b[0m\u001b[1;33m(\u001b[0m\u001b[0mmessage\u001b[0m\u001b[1;33m,\u001b[0m \u001b[0mscreen\u001b[0m\u001b[1;33m,\u001b[0m \u001b[0mstacktrace\u001b[0m\u001b[1;33m)\u001b[0m\u001b[1;33m\u001b[0m\u001b[0m\n\u001b[0m\u001b[0;32m    243\u001b[0m \u001b[1;33m\u001b[0m\u001b[0m\n\u001b[0;32m    244\u001b[0m     \u001b[1;32mdef\u001b[0m \u001b[0m_value_or_default\u001b[0m\u001b[1;33m(\u001b[0m\u001b[0mself\u001b[0m\u001b[1;33m,\u001b[0m \u001b[0mobj\u001b[0m\u001b[1;33m,\u001b[0m \u001b[0mkey\u001b[0m\u001b[1;33m,\u001b[0m \u001b[0mdefault\u001b[0m\u001b[1;33m)\u001b[0m\u001b[1;33m:\u001b[0m\u001b[1;33m\u001b[0m\u001b[0m\n",
      "\u001b[1;31mNoSuchWindowException\u001b[0m: Message: Unable to get browser\n"
     ]
    }
   ],
   "source": [
    " #driver.find_elements_by_xpath(\"//*[contains(text(), 'My Button')]\")\n",
    " #target = browser.find_elements_by_xpath(\"//td/a[contains(text(),'季度报告')]/following-sibling::a\")\n",
    "browser.get(url)"
   ]
  },
  {
   "cell_type": "code",
   "execution_count": 72,
   "metadata": {},
   "outputs": [
    {
     "output_type": "execute_result",
     "data": {
      "text/plain": [
       "'http://pdf.dfcfw.com/pdf/H2_AN202101221453171343_1.pdf'"
      ]
     },
     "metadata": {},
     "execution_count": 72
    }
   ],
   "source": [
    "target[0].find_element_by_xpath(\"./following-sibling::a\").get_attribute(\"href\")  #找出下一个相邻的A"
   ]
  },
  {
   "cell_type": "code",
   "execution_count": 82,
   "metadata": {},
   "outputs": [],
   "source": []
  },
  {
   "cell_type": "code",
   "execution_count": 83,
   "metadata": {},
   "outputs": [
    {
     "output_type": "stream",
     "name": "stdout",
     "text": [
      "文件1.pdf的大小是：518.55K,开始下载...\n"
     ]
    },
    {
     "output_type": "display_data",
     "data": {
      "text/plain": "HBox(children=(FloatProgress(value=0.0, description='1.pdf', max=518.5517578125, style=ProgressStyle(descripti…",
      "application/vnd.jupyter.widget-view+json": {
       "version_major": 2,
       "version_minor": 0,
       "model_id": "83c9f9df046a4eecb0c02f44f03dbe0c"
      }
     },
     "metadata": {}
    },
    {
     "output_type": "stream",
     "name": "stdout",
     "text": [
      "\n1.pdf下载完成！\n"
     ]
    }
   ],
   "source": [
    "downloadFILE_old(\"http://pdf.dfcfw.com/pdf/H2_AN202101221453171343_1.pdf\",\"1.pdf\")"
   ]
  },
  {
   "cell_type": "code",
   "execution_count": 61,
   "metadata": {},
   "outputs": [],
   "source": [
    "# 2021年4月20日\n",
    "# 在使用fundcrawler.py生成相应的文件后，读取相应的基金文件进行排序\n",
    "def p(x):\n",
    "    if \"-\" in x:\n",
    "        return 0\n",
    "    else:\n",
    "        return float(x.strip(\"%\"))\n",
    "df = pd.read_csv(\"FundCrawler/results/混合型.csv\",engine=\"python\")\n",
    "for i in [\"近1月\",\"近3月\",\"近6月\",\"近1年\",\"近3年\",\"成立来\"]:\n",
    "    df[i]=df[i].map(p)"
   ]
  },
  {
   "cell_type": "code",
   "execution_count": 62,
   "metadata": {},
   "outputs": [],
   "source": [
    "df[\"bj\"]=df[\"近3月\"]+df[\"近6月\"]+df[\"近1年\"]+df[\"近3年\"]"
   ]
  },
  {
   "cell_type": "code",
   "execution_count": 63,
   "metadata": {},
   "outputs": [
    {
     "output_type": "execute_result",
     "data": {
      "text/plain": [
       "                 基金名称    基金代码                  基金规模    近1月    近3月    近6月  \\\n",
       "843     前海开源中国稀缺资产混合A    1679   30.35亿元（2020-12-31）   2.98   0.00  20.99   \n",
       "933     前海开源中国稀缺资产混合C    2079   11.94亿元（2020-12-31）   2.97   0.00  20.96   \n",
       "633         易方达新收益混合A    1216   37.58亿元（2021-03-31）   8.92   0.00  22.75   \n",
       "222          农银研究精选混合     336   27.43亿元（2020-12-31）   5.59   0.00  21.63   \n",
       "2071         交银股息优化混合    4868    7.39亿元（2020-12-31）   6.49   3.07  25.38   \n",
       "793         易方达新收益混合C    1217   18.64亿元（2021-03-31）   8.87   0.00  22.64   \n",
       "135         前海联合泓鑫混合A    2780    6.35亿元（2020-12-31）   8.66   0.00  18.76   \n",
       "308           长安裕泰混合C    5342    0.77亿元（2020-12-31）   5.85   0.00  25.40   \n",
       "1641        中欧价值智选混合E    1887    0.53亿元（2020-12-31）   1.29  13.37  29.49   \n",
       "1654        中欧价值智选混合A  166019    4.52亿元（2020-12-31）   1.30  13.37  29.50   \n",
       "903       易方达瑞恒灵活配置混合    1832   23.88亿元（2021-03-31）   4.10   0.00  24.27   \n",
       "95          农银工业4.0混合    1606   39.35亿元（2020-12-31）   6.50   0.00  22.96   \n",
       "1686        中欧价值智选混合C    4235    0.42亿元（2020-12-31）   1.23  13.16  29.00   \n",
       "740      易方达瑞程灵活配置混合C    3962    4.96亿元（2021-03-31）   2.53   0.00  15.88   \n",
       "19            农银新能源主题    2190  153.14亿元（2020-12-31）  10.60   0.00  24.82   \n",
       "578      易方达瑞程灵活配置混合A    3961   13.89亿元（2021-03-31）   2.55   0.00  16.00   \n",
       "264         易方达环保主题混合    1856   30.54亿元（2021-03-31）   4.52   0.00  15.70   \n",
       "1352        中欧时代智慧混合A    5241   13.65亿元（2020-12-31）   2.22   0.00  31.02   \n",
       "1645         华安文体健康混合    1532    1.96亿元（2020-12-31）   5.32   8.98  27.63   \n",
       "968       大成睿景灵活配置混合A    1300   10.54亿元（2020-12-31）   0.06   8.83  30.66   \n",
       "311         长安鑫旺价值混合C    5050    1.11亿元（2020-12-31）   6.83   0.00  24.84   \n",
       "435         长安鑫旺价值混合A    5049    0.52亿元（2020-12-31）   6.84   0.00  24.94   \n",
       "893            泓德泓华混合    2846    8.18亿元（2020-12-31）   5.84   0.00  17.99   \n",
       "1497          汇安丰泽混合A    3889    2.21亿元（2020-12-31）   4.35   2.84  21.77   \n",
       "619          新华优选消费混合  519150    1.89亿元（2020-12-31）  14.57   2.14  29.40   \n",
       "472           南华丰淳混合A    5296    0.03亿元（2020-12-31）   5.80  24.25  46.87   \n",
       "797     前海开源国家比较优势混合A    1102   49.04亿元（2020-12-31）   2.97   0.00  21.63   \n",
       "85           金鹰改革红利混合    1951    3.88亿元（2020-12-31）   2.77   3.44  45.83   \n",
       "348          诺德周期策略混合  570008   11.89亿元（2020-12-31）   9.78   0.00  23.55   \n",
       "1137    景顺长城鼎益混合(LOF)  162605  136.23亿元（2020-12-31）   7.38   0.00  21.36   \n",
       "...               ...     ...                   ...    ...    ...    ...   \n",
       "2524           永赢鑫欣混合   10923    2.51亿元（2021-01-14）   0.73   0.00   0.00   \n",
       "2350    中融景颐6个月持有期混合A   10683   10.32亿元（2021-01-27）   0.26   0.00   0.00   \n",
       "2347        鹏华汇智优选混合A   10894  113.03亿元（2021-01-08）   1.57   0.00   0.00   \n",
       "2346    国金鑫新灵活配置(LOF)  501000    0.01亿元（2020-12-31）   0.00   0.00   0.00   \n",
       "630         博时产业精选混合C   10456    2.24亿元（2020-11-06）   0.20   0.00   0.00   \n",
       "2274        鹏华成长智选混合A   10264  124.90亿元（2020-12-31）   2.06   0.00   0.00   \n",
       "648      东方红启瑞三年持有混合A  910011              --亿元（--）   0.00   0.00   0.00   \n",
       "641   财通资管优选回报一年持有期混合    9774   18.31亿元（2020-12-31）   3.59   0.00   0.00   \n",
       "639     广发创新医疗两年持有混合A   10731    5.04亿元（2021-03-19）   4.69   0.00   0.00   \n",
       "2294     交银内需增长一年持有混合   10454   49.50亿元（2020-12-11）   4.66   0.00   0.00   \n",
       "2297       国寿安保高股息混合C    9501    0.01亿元（2020-12-31）   0.00   0.00   0.00   \n",
       "2299        鹏华汇智优选混合C   10895    5.84亿元（2021-01-08）   1.51   0.00   0.00   \n",
       "2301        兴银策略智选混合C   10428    1.81亿元（2020-11-10）   0.07   0.00   0.00   \n",
       "3197       银河臻选多策略混合C    8387    0.03亿元（2020-12-31）   0.09   0.00   0.00   \n",
       "2302        工银灵动价值混合C   10745    2.88亿元（2020-12-25）   1.03   0.00   0.00   \n",
       "3195     农银策略收益一年持有混合   10347   78.85亿元（2021-01-27）   0.00   0.00   0.00   \n",
       "2306    创金合信景雯灵活配置混合A   10597    0.86亿元（2021-02-19）   1.49   0.00   0.00   \n",
       "3179        大成丰享回报混合A    9653    3.12亿元（2020-11-18）   0.89   0.00   0.00   \n",
       "117       创金合信竞争优势混合A   11206   25.03亿元（2021-01-25）   2.29   0.00   0.00   \n",
       "628        鹏华高质量增长混合A   10490   31.22亿元（2020-11-18）   3.08   0.00   0.00   \n",
       "626    富国融泰三个月定开混合发起式   10400   10.10亿元（2021-02-03）   0.00   0.00   0.00   \n",
       "622         宝盈基础产业混合A   10383   20.31亿元（2021-02-02）   2.97   0.00   0.00   \n",
       "2318        兴银策略智选混合A   10427    0.58亿元（2020-11-10）   0.11   0.00   0.00   \n",
       "2326        广发均衡增长混合A   10534   76.14亿元（2021-01-27）   1.04   0.00   0.00   \n",
       "2329     国泰民裕进取灵活配置混合    6354    0.53亿元（2020-12-31）   0.63   0.00   0.00   \n",
       "2331          太平睿安混合A   10268    2.69亿元（2020-11-10）   1.12   0.00   0.00   \n",
       "3182      华泰柏瑞量化创享混合C   10138    1.20亿元（2020-12-30）   0.93   0.00   0.00   \n",
       "2333       易方达远见成长混合A   10115   72.14亿元（2021-03-05）   1.65   0.00   0.00   \n",
       "2339        广发均衡增长混合C   10535    3.17亿元（2021-01-27）   1.02   0.00   0.00   \n",
       "1612        富国创新科技混合C   11120    0.00亿元（2020-12-31）   3.17   0.00   0.00   \n",
       "\n",
       "         近1年     近3年      成立来     基金经理     任职时间     任期收益             总任职时间  \\\n",
       "843    82.38  250.29   204.40       曲扬  5年又223天  197.10%           7年又157天   \n",
       "933    82.16  248.96   218.60       曲扬  5年又153天  210.90%           7年又157天   \n",
       "633    87.50  204.23   288.50      张清华  2年又102天  192.66%           7年又119天   \n",
       "222   117.53  172.31   252.86       赵诣   4年又30天  131.53%            4年又30天   \n",
       "2071  106.58  176.29   187.26      韩威俊  3年又238天  184.02%            5年又91天   \n",
       "793    87.07  200.95   279.20      张清华  2年又102天  190.20%           7年又119天   \n",
       "135    87.60  203.21   215.03       何杰  1年又214天  130.04%             3年又8天   \n",
       "308    82.56  193.77   176.00      徐小勇  2年又113天  213.70%           9年又200天   \n",
       "1641   79.01  178.04   225.17      袁维德     325天   73.53%           4年又113天   \n",
       "1654   79.04  177.19   432.97      袁维德     325天   73.54%           4年又113天   \n",
       "903    92.28  176.69   154.00   王元春/萧楠  2年又133天  223.92%   2年又133天/8年又205天   \n",
       "95    120.75  148.40   226.65       赵诣   1年又79天  131.84%            4年又30天   \n",
       "1686   77.63  170.58   149.44      袁维德     325天   72.34%           4年又113天   \n",
       "740    82.29  191.52   221.60       林森   3年又77天  185.11%           5年又144天   \n",
       "19    128.71  134.38   162.72       赵诣  1年又234天  175.43%            4年又30天   \n",
       "578    82.66  189.12   219.56       林森   3年又77天  182.81%           5年又144天   \n",
       "264    88.80  182.94   198.50       祁禾  2年又317天  180.10%           3年又114天   \n",
       "1352   91.97  161.42   157.14      成雨轩     250天   35.66%           1年又323天   \n",
       "1645   90.97  156.20   179.00      刘畅畅      35天    4.61%           1年又102天   \n",
       "968   111.74  132.11    71.30       韩创   1年又97天   97.64%           2年又100天   \n",
       "311    80.57  177.93   203.44      徐小勇  2年又100天  216.49%           9年又200天   \n",
       "435    80.84  177.07   202.36      徐小勇  2年又100天  215.33%           9年又200天   \n",
       "893    95.95  168.17   181.58       秦毅  1年又160天  109.41%           3年又322天   \n",
       "1497   69.03  188.13   329.21       戴杰  1年又275天  108.56%            4年又93天   \n",
       "619    97.65  150.91   561.04       付伟     189天   26.51%           5年又245天   \n",
       "472    98.17  110.34   109.25    徐超/刘斐   1年又93天   86.06%   4年又352天/3年又247天   \n",
       "797    81.31  176.61   277.30       曲扬  5年又348天  268.10%           7年又157天   \n",
       "85    108.33  120.30   137.70   韩广哲/倪超  1年又277天  117.16%   2年又304天/5年又314天   \n",
       "348   109.77  144.11   570.74      罗世锋  5年又305天  135.37%           6年又147天   \n",
       "1137   87.58  168.19  2297.50      刘彦春  5年又284天  306.61%          11年又356天   \n",
       "...      ...     ...      ...      ...      ...      ...               ...   \n",
       "2524    0.00    0.00     0.00    陶毅/万纯      77天   -2.21%      343天/1年又324天   \n",
       "2350    0.00    0.00     0.00  钱文成/朱柏蓉      75天   -2.18%    7年又322天/2年又80天   \n",
       "2347    0.00    0.00     0.00   聂毅翔/梁浩     101天   -3.84%   3年又260天/9年又282天   \n",
       "2346    0.00    0.00     0.00       宫雪   4年又66天   -7.32%           7年又269天   \n",
       "630     0.00    0.00     0.00       蔡滨     164天   -7.59%           6年又116天   \n",
       "2274    0.00    0.00     0.00   包兵华/梁浩     182天   -1.79%     2年又0天/9年又282天   \n",
       "648     0.00    0.00     3.48       高义      28天    0.90%              105天   \n",
       "641     0.00    0.00     0.00       于洋     229天   -9.39%           2年又276天   \n",
       "639     0.00    0.00     4.69      吴兴武      31天    2.16%            6年又68天   \n",
       "2294    0.00    0.00     0.66      韩威俊     129天   -0.32%            5年又91天   \n",
       "2297    0.00    0.00     0.00   黎晓晖/张琦     204天   -4.73%  2年又162天/10年又171天   \n",
       "2299    0.00    0.00     0.00   聂毅翔/梁浩     101天   -4.05%   3年又260天/9年又282天   \n",
       "2301    0.00    0.00     0.00   张世略/杨坤     160天   -3.57%       160天/2年又28天   \n",
       "3197    0.00    0.00     0.00   郑巍山/张沛     345天   -0.82%    1年又344天/3年又77天   \n",
       "2302    0.00    0.00     0.00      王筱苓     115天   -1.08%          10年又240天   \n",
       "3195    0.00    0.00     0.00       张峰      82天   -3.04%           5年又216天   \n",
       "2306    0.00    0.00     1.49       黄弢      59天    0.63%              346天   \n",
       "3179    0.00    0.00     0.22    孙丹/王磊     152天   -0.08%   3年又347天/7年又318天   \n",
       "117     0.00    0.00     0.00       李游      84天  -11.62%           4年又169天   \n",
       "628     0.00    0.00     3.15      谢书英     152天    0.69%             7年又2天   \n",
       "626     0.00    0.00     0.00       杨栋      75天   -9.91%           5年又246天   \n",
       "622     0.00    0.00     0.00      李健伟      76天   -5.60%            4年又85天   \n",
       "2318    0.00    0.00     0.00   张世略/杨坤     160天   -3.29%       160天/2年又28天   \n",
       "2326    0.00    0.00     0.70       王颂      82天    0.04%             5年又6天   \n",
       "2329    0.00    0.00     0.00      饶玉涵     202天   -2.27%           5年又224天   \n",
       "2331    0.00    0.00     3.86       陈晓     160天    3.07%           6年又293天   \n",
       "3182    0.00    0.00     0.00   盛豪/田汉卿     110天   -0.49%   5年又190天/7年又262天   \n",
       "2333    0.00    0.00     1.94       武阳      45天    1.16%           5年又259天   \n",
       "2339    0.00    0.00     0.65       王颂      82天   -0.01%             5年又6天   \n",
       "1612    0.00    0.00     0.00      李元博     112天   -5.40%           6年又183天   \n",
       "\n",
       "          bj  \n",
       "843   353.66  \n",
       "933   352.08  \n",
       "633   314.48  \n",
       "222   311.47  \n",
       "2071  311.32  \n",
       "793   310.66  \n",
       "135   309.57  \n",
       "308   301.73  \n",
       "1641  299.91  \n",
       "1654  299.10  \n",
       "903   293.24  \n",
       "95    292.11  \n",
       "1686  290.37  \n",
       "740   289.69  \n",
       "19    287.91  \n",
       "578   287.78  \n",
       "264   287.44  \n",
       "1352  284.41  \n",
       "1645  283.78  \n",
       "968   283.34  \n",
       "311   283.34  \n",
       "435   282.85  \n",
       "893   282.11  \n",
       "1497  281.77  \n",
       "619   280.10  \n",
       "472   279.63  \n",
       "797   279.55  \n",
       "85    277.90  \n",
       "348   277.43  \n",
       "1137  277.13  \n",
       "...      ...  \n",
       "2524    0.00  \n",
       "2350    0.00  \n",
       "2347    0.00  \n",
       "2346    0.00  \n",
       "630     0.00  \n",
       "2274    0.00  \n",
       "648     0.00  \n",
       "641     0.00  \n",
       "639     0.00  \n",
       "2294    0.00  \n",
       "2297    0.00  \n",
       "2299    0.00  \n",
       "2301    0.00  \n",
       "3197    0.00  \n",
       "2302    0.00  \n",
       "3195    0.00  \n",
       "2306    0.00  \n",
       "3179    0.00  \n",
       "117     0.00  \n",
       "628     0.00  \n",
       "626     0.00  \n",
       "622     0.00  \n",
       "2318    0.00  \n",
       "2326    0.00  \n",
       "2329    0.00  \n",
       "2331    0.00  \n",
       "3182    0.00  \n",
       "2333    0.00  \n",
       "2339    0.00  \n",
       "1612    0.00  \n",
       "\n",
       "[3505 rows x 14 columns]"
      ],
      "text/html": "<div>\n<style scoped>\n    .dataframe tbody tr th:only-of-type {\n        vertical-align: middle;\n    }\n\n    .dataframe tbody tr th {\n        vertical-align: top;\n    }\n\n    .dataframe thead th {\n        text-align: right;\n    }\n</style>\n<table border=\"1\" class=\"dataframe\">\n  <thead>\n    <tr style=\"text-align: right;\">\n      <th></th>\n      <th>基金名称</th>\n      <th>基金代码</th>\n      <th>基金规模</th>\n      <th>近1月</th>\n      <th>近3月</th>\n      <th>近6月</th>\n      <th>近1年</th>\n      <th>近3年</th>\n      <th>成立来</th>\n      <th>基金经理</th>\n      <th>任职时间</th>\n      <th>任期收益</th>\n      <th>总任职时间</th>\n      <th>bj</th>\n    </tr>\n  </thead>\n  <tbody>\n    <tr>\n      <th>843</th>\n      <td>前海开源中国稀缺资产混合A</td>\n      <td>1679</td>\n      <td>30.35亿元（2020-12-31）</td>\n      <td>2.98</td>\n      <td>0.00</td>\n      <td>20.99</td>\n      <td>82.38</td>\n      <td>250.29</td>\n      <td>204.40</td>\n      <td>曲扬</td>\n      <td>5年又223天</td>\n      <td>197.10%</td>\n      <td>7年又157天</td>\n      <td>353.66</td>\n    </tr>\n    <tr>\n      <th>933</th>\n      <td>前海开源中国稀缺资产混合C</td>\n      <td>2079</td>\n      <td>11.94亿元（2020-12-31）</td>\n      <td>2.97</td>\n      <td>0.00</td>\n      <td>20.96</td>\n      <td>82.16</td>\n      <td>248.96</td>\n      <td>218.60</td>\n      <td>曲扬</td>\n      <td>5年又153天</td>\n      <td>210.90%</td>\n      <td>7年又157天</td>\n      <td>352.08</td>\n    </tr>\n    <tr>\n      <th>633</th>\n      <td>易方达新收益混合A</td>\n      <td>1216</td>\n      <td>37.58亿元（2021-03-31）</td>\n      <td>8.92</td>\n      <td>0.00</td>\n      <td>22.75</td>\n      <td>87.50</td>\n      <td>204.23</td>\n      <td>288.50</td>\n      <td>张清华</td>\n      <td>2年又102天</td>\n      <td>192.66%</td>\n      <td>7年又119天</td>\n      <td>314.48</td>\n    </tr>\n    <tr>\n      <th>222</th>\n      <td>农银研究精选混合</td>\n      <td>336</td>\n      <td>27.43亿元（2020-12-31）</td>\n      <td>5.59</td>\n      <td>0.00</td>\n      <td>21.63</td>\n      <td>117.53</td>\n      <td>172.31</td>\n      <td>252.86</td>\n      <td>赵诣</td>\n      <td>4年又30天</td>\n      <td>131.53%</td>\n      <td>4年又30天</td>\n      <td>311.47</td>\n    </tr>\n    <tr>\n      <th>2071</th>\n      <td>交银股息优化混合</td>\n      <td>4868</td>\n      <td>7.39亿元（2020-12-31）</td>\n      <td>6.49</td>\n      <td>3.07</td>\n      <td>25.38</td>\n      <td>106.58</td>\n      <td>176.29</td>\n      <td>187.26</td>\n      <td>韩威俊</td>\n      <td>3年又238天</td>\n      <td>184.02%</td>\n      <td>5年又91天</td>\n      <td>311.32</td>\n    </tr>\n    <tr>\n      <th>793</th>\n      <td>易方达新收益混合C</td>\n      <td>1217</td>\n      <td>18.64亿元（2021-03-31）</td>\n      <td>8.87</td>\n      <td>0.00</td>\n      <td>22.64</td>\n      <td>87.07</td>\n      <td>200.95</td>\n      <td>279.20</td>\n      <td>张清华</td>\n      <td>2年又102天</td>\n      <td>190.20%</td>\n      <td>7年又119天</td>\n      <td>310.66</td>\n    </tr>\n    <tr>\n      <th>135</th>\n      <td>前海联合泓鑫混合A</td>\n      <td>2780</td>\n      <td>6.35亿元（2020-12-31）</td>\n      <td>8.66</td>\n      <td>0.00</td>\n      <td>18.76</td>\n      <td>87.60</td>\n      <td>203.21</td>\n      <td>215.03</td>\n      <td>何杰</td>\n      <td>1年又214天</td>\n      <td>130.04%</td>\n      <td>3年又8天</td>\n      <td>309.57</td>\n    </tr>\n    <tr>\n      <th>308</th>\n      <td>长安裕泰混合C</td>\n      <td>5342</td>\n      <td>0.77亿元（2020-12-31）</td>\n      <td>5.85</td>\n      <td>0.00</td>\n      <td>25.40</td>\n      <td>82.56</td>\n      <td>193.77</td>\n      <td>176.00</td>\n      <td>徐小勇</td>\n      <td>2年又113天</td>\n      <td>213.70%</td>\n      <td>9年又200天</td>\n      <td>301.73</td>\n    </tr>\n    <tr>\n      <th>1641</th>\n      <td>中欧价值智选混合E</td>\n      <td>1887</td>\n      <td>0.53亿元（2020-12-31）</td>\n      <td>1.29</td>\n      <td>13.37</td>\n      <td>29.49</td>\n      <td>79.01</td>\n      <td>178.04</td>\n      <td>225.17</td>\n      <td>袁维德</td>\n      <td>325天</td>\n      <td>73.53%</td>\n      <td>4年又113天</td>\n      <td>299.91</td>\n    </tr>\n    <tr>\n      <th>1654</th>\n      <td>中欧价值智选混合A</td>\n      <td>166019</td>\n      <td>4.52亿元（2020-12-31）</td>\n      <td>1.30</td>\n      <td>13.37</td>\n      <td>29.50</td>\n      <td>79.04</td>\n      <td>177.19</td>\n      <td>432.97</td>\n      <td>袁维德</td>\n      <td>325天</td>\n      <td>73.54%</td>\n      <td>4年又113天</td>\n      <td>299.10</td>\n    </tr>\n    <tr>\n      <th>903</th>\n      <td>易方达瑞恒灵活配置混合</td>\n      <td>1832</td>\n      <td>23.88亿元（2021-03-31）</td>\n      <td>4.10</td>\n      <td>0.00</td>\n      <td>24.27</td>\n      <td>92.28</td>\n      <td>176.69</td>\n      <td>154.00</td>\n      <td>王元春/萧楠</td>\n      <td>2年又133天</td>\n      <td>223.92%</td>\n      <td>2年又133天/8年又205天</td>\n      <td>293.24</td>\n    </tr>\n    <tr>\n      <th>95</th>\n      <td>农银工业4.0混合</td>\n      <td>1606</td>\n      <td>39.35亿元（2020-12-31）</td>\n      <td>6.50</td>\n      <td>0.00</td>\n      <td>22.96</td>\n      <td>120.75</td>\n      <td>148.40</td>\n      <td>226.65</td>\n      <td>赵诣</td>\n      <td>1年又79天</td>\n      <td>131.84%</td>\n      <td>4年又30天</td>\n      <td>292.11</td>\n    </tr>\n    <tr>\n      <th>1686</th>\n      <td>中欧价值智选混合C</td>\n      <td>4235</td>\n      <td>0.42亿元（2020-12-31）</td>\n      <td>1.23</td>\n      <td>13.16</td>\n      <td>29.00</td>\n      <td>77.63</td>\n      <td>170.58</td>\n      <td>149.44</td>\n      <td>袁维德</td>\n      <td>325天</td>\n      <td>72.34%</td>\n      <td>4年又113天</td>\n      <td>290.37</td>\n    </tr>\n    <tr>\n      <th>740</th>\n      <td>易方达瑞程灵活配置混合C</td>\n      <td>3962</td>\n      <td>4.96亿元（2021-03-31）</td>\n      <td>2.53</td>\n      <td>0.00</td>\n      <td>15.88</td>\n      <td>82.29</td>\n      <td>191.52</td>\n      <td>221.60</td>\n      <td>林森</td>\n      <td>3年又77天</td>\n      <td>185.11%</td>\n      <td>5年又144天</td>\n      <td>289.69</td>\n    </tr>\n    <tr>\n      <th>19</th>\n      <td>农银新能源主题</td>\n      <td>2190</td>\n      <td>153.14亿元（2020-12-31）</td>\n      <td>10.60</td>\n      <td>0.00</td>\n      <td>24.82</td>\n      <td>128.71</td>\n      <td>134.38</td>\n      <td>162.72</td>\n      <td>赵诣</td>\n      <td>1年又234天</td>\n      <td>175.43%</td>\n      <td>4年又30天</td>\n      <td>287.91</td>\n    </tr>\n    <tr>\n      <th>578</th>\n      <td>易方达瑞程灵活配置混合A</td>\n      <td>3961</td>\n      <td>13.89亿元（2021-03-31）</td>\n      <td>2.55</td>\n      <td>0.00</td>\n      <td>16.00</td>\n      <td>82.66</td>\n      <td>189.12</td>\n      <td>219.56</td>\n      <td>林森</td>\n      <td>3年又77天</td>\n      <td>182.81%</td>\n      <td>5年又144天</td>\n      <td>287.78</td>\n    </tr>\n    <tr>\n      <th>264</th>\n      <td>易方达环保主题混合</td>\n      <td>1856</td>\n      <td>30.54亿元（2021-03-31）</td>\n      <td>4.52</td>\n      <td>0.00</td>\n      <td>15.70</td>\n      <td>88.80</td>\n      <td>182.94</td>\n      <td>198.50</td>\n      <td>祁禾</td>\n      <td>2年又317天</td>\n      <td>180.10%</td>\n      <td>3年又114天</td>\n      <td>287.44</td>\n    </tr>\n    <tr>\n      <th>1352</th>\n      <td>中欧时代智慧混合A</td>\n      <td>5241</td>\n      <td>13.65亿元（2020-12-31）</td>\n      <td>2.22</td>\n      <td>0.00</td>\n      <td>31.02</td>\n      <td>91.97</td>\n      <td>161.42</td>\n      <td>157.14</td>\n      <td>成雨轩</td>\n      <td>250天</td>\n      <td>35.66%</td>\n      <td>1年又323天</td>\n      <td>284.41</td>\n    </tr>\n    <tr>\n      <th>1645</th>\n      <td>华安文体健康混合</td>\n      <td>1532</td>\n      <td>1.96亿元（2020-12-31）</td>\n      <td>5.32</td>\n      <td>8.98</td>\n      <td>27.63</td>\n      <td>90.97</td>\n      <td>156.20</td>\n      <td>179.00</td>\n      <td>刘畅畅</td>\n      <td>35天</td>\n      <td>4.61%</td>\n      <td>1年又102天</td>\n      <td>283.78</td>\n    </tr>\n    <tr>\n      <th>968</th>\n      <td>大成睿景灵活配置混合A</td>\n      <td>1300</td>\n      <td>10.54亿元（2020-12-31）</td>\n      <td>0.06</td>\n      <td>8.83</td>\n      <td>30.66</td>\n      <td>111.74</td>\n      <td>132.11</td>\n      <td>71.30</td>\n      <td>韩创</td>\n      <td>1年又97天</td>\n      <td>97.64%</td>\n      <td>2年又100天</td>\n      <td>283.34</td>\n    </tr>\n    <tr>\n      <th>311</th>\n      <td>长安鑫旺价值混合C</td>\n      <td>5050</td>\n      <td>1.11亿元（2020-12-31）</td>\n      <td>6.83</td>\n      <td>0.00</td>\n      <td>24.84</td>\n      <td>80.57</td>\n      <td>177.93</td>\n      <td>203.44</td>\n      <td>徐小勇</td>\n      <td>2年又100天</td>\n      <td>216.49%</td>\n      <td>9年又200天</td>\n      <td>283.34</td>\n    </tr>\n    <tr>\n      <th>435</th>\n      <td>长安鑫旺价值混合A</td>\n      <td>5049</td>\n      <td>0.52亿元（2020-12-31）</td>\n      <td>6.84</td>\n      <td>0.00</td>\n      <td>24.94</td>\n      <td>80.84</td>\n      <td>177.07</td>\n      <td>202.36</td>\n      <td>徐小勇</td>\n      <td>2年又100天</td>\n      <td>215.33%</td>\n      <td>9年又200天</td>\n      <td>282.85</td>\n    </tr>\n    <tr>\n      <th>893</th>\n      <td>泓德泓华混合</td>\n      <td>2846</td>\n      <td>8.18亿元（2020-12-31）</td>\n      <td>5.84</td>\n      <td>0.00</td>\n      <td>17.99</td>\n      <td>95.95</td>\n      <td>168.17</td>\n      <td>181.58</td>\n      <td>秦毅</td>\n      <td>1年又160天</td>\n      <td>109.41%</td>\n      <td>3年又322天</td>\n      <td>282.11</td>\n    </tr>\n    <tr>\n      <th>1497</th>\n      <td>汇安丰泽混合A</td>\n      <td>3889</td>\n      <td>2.21亿元（2020-12-31）</td>\n      <td>4.35</td>\n      <td>2.84</td>\n      <td>21.77</td>\n      <td>69.03</td>\n      <td>188.13</td>\n      <td>329.21</td>\n      <td>戴杰</td>\n      <td>1年又275天</td>\n      <td>108.56%</td>\n      <td>4年又93天</td>\n      <td>281.77</td>\n    </tr>\n    <tr>\n      <th>619</th>\n      <td>新华优选消费混合</td>\n      <td>519150</td>\n      <td>1.89亿元（2020-12-31）</td>\n      <td>14.57</td>\n      <td>2.14</td>\n      <td>29.40</td>\n      <td>97.65</td>\n      <td>150.91</td>\n      <td>561.04</td>\n      <td>付伟</td>\n      <td>189天</td>\n      <td>26.51%</td>\n      <td>5年又245天</td>\n      <td>280.10</td>\n    </tr>\n    <tr>\n      <th>472</th>\n      <td>南华丰淳混合A</td>\n      <td>5296</td>\n      <td>0.03亿元（2020-12-31）</td>\n      <td>5.80</td>\n      <td>24.25</td>\n      <td>46.87</td>\n      <td>98.17</td>\n      <td>110.34</td>\n      <td>109.25</td>\n      <td>徐超/刘斐</td>\n      <td>1年又93天</td>\n      <td>86.06%</td>\n      <td>4年又352天/3年又247天</td>\n      <td>279.63</td>\n    </tr>\n    <tr>\n      <th>797</th>\n      <td>前海开源国家比较优势混合A</td>\n      <td>1102</td>\n      <td>49.04亿元（2020-12-31）</td>\n      <td>2.97</td>\n      <td>0.00</td>\n      <td>21.63</td>\n      <td>81.31</td>\n      <td>176.61</td>\n      <td>277.30</td>\n      <td>曲扬</td>\n      <td>5年又348天</td>\n      <td>268.10%</td>\n      <td>7年又157天</td>\n      <td>279.55</td>\n    </tr>\n    <tr>\n      <th>85</th>\n      <td>金鹰改革红利混合</td>\n      <td>1951</td>\n      <td>3.88亿元（2020-12-31）</td>\n      <td>2.77</td>\n      <td>3.44</td>\n      <td>45.83</td>\n      <td>108.33</td>\n      <td>120.30</td>\n      <td>137.70</td>\n      <td>韩广哲/倪超</td>\n      <td>1年又277天</td>\n      <td>117.16%</td>\n      <td>2年又304天/5年又314天</td>\n      <td>277.90</td>\n    </tr>\n    <tr>\n      <th>348</th>\n      <td>诺德周期策略混合</td>\n      <td>570008</td>\n      <td>11.89亿元（2020-12-31）</td>\n      <td>9.78</td>\n      <td>0.00</td>\n      <td>23.55</td>\n      <td>109.77</td>\n      <td>144.11</td>\n      <td>570.74</td>\n      <td>罗世锋</td>\n      <td>5年又305天</td>\n      <td>135.37%</td>\n      <td>6年又147天</td>\n      <td>277.43</td>\n    </tr>\n    <tr>\n      <th>1137</th>\n      <td>景顺长城鼎益混合(LOF)</td>\n      <td>162605</td>\n      <td>136.23亿元（2020-12-31）</td>\n      <td>7.38</td>\n      <td>0.00</td>\n      <td>21.36</td>\n      <td>87.58</td>\n      <td>168.19</td>\n      <td>2297.50</td>\n      <td>刘彦春</td>\n      <td>5年又284天</td>\n      <td>306.61%</td>\n      <td>11年又356天</td>\n      <td>277.13</td>\n    </tr>\n    <tr>\n      <th>...</th>\n      <td>...</td>\n      <td>...</td>\n      <td>...</td>\n      <td>...</td>\n      <td>...</td>\n      <td>...</td>\n      <td>...</td>\n      <td>...</td>\n      <td>...</td>\n      <td>...</td>\n      <td>...</td>\n      <td>...</td>\n      <td>...</td>\n      <td>...</td>\n    </tr>\n    <tr>\n      <th>2524</th>\n      <td>永赢鑫欣混合</td>\n      <td>10923</td>\n      <td>2.51亿元（2021-01-14）</td>\n      <td>0.73</td>\n      <td>0.00</td>\n      <td>0.00</td>\n      <td>0.00</td>\n      <td>0.00</td>\n      <td>0.00</td>\n      <td>陶毅/万纯</td>\n      <td>77天</td>\n      <td>-2.21%</td>\n      <td>343天/1年又324天</td>\n      <td>0.00</td>\n    </tr>\n    <tr>\n      <th>2350</th>\n      <td>中融景颐6个月持有期混合A</td>\n      <td>10683</td>\n      <td>10.32亿元（2021-01-27）</td>\n      <td>0.26</td>\n      <td>0.00</td>\n      <td>0.00</td>\n      <td>0.00</td>\n      <td>0.00</td>\n      <td>0.00</td>\n      <td>钱文成/朱柏蓉</td>\n      <td>75天</td>\n      <td>-2.18%</td>\n      <td>7年又322天/2年又80天</td>\n      <td>0.00</td>\n    </tr>\n    <tr>\n      <th>2347</th>\n      <td>鹏华汇智优选混合A</td>\n      <td>10894</td>\n      <td>113.03亿元（2021-01-08）</td>\n      <td>1.57</td>\n      <td>0.00</td>\n      <td>0.00</td>\n      <td>0.00</td>\n      <td>0.00</td>\n      <td>0.00</td>\n      <td>聂毅翔/梁浩</td>\n      <td>101天</td>\n      <td>-3.84%</td>\n      <td>3年又260天/9年又282天</td>\n      <td>0.00</td>\n    </tr>\n    <tr>\n      <th>2346</th>\n      <td>国金鑫新灵活配置(LOF)</td>\n      <td>501000</td>\n      <td>0.01亿元（2020-12-31）</td>\n      <td>0.00</td>\n      <td>0.00</td>\n      <td>0.00</td>\n      <td>0.00</td>\n      <td>0.00</td>\n      <td>0.00</td>\n      <td>宫雪</td>\n      <td>4年又66天</td>\n      <td>-7.32%</td>\n      <td>7年又269天</td>\n      <td>0.00</td>\n    </tr>\n    <tr>\n      <th>630</th>\n      <td>博时产业精选混合C</td>\n      <td>10456</td>\n      <td>2.24亿元（2020-11-06）</td>\n      <td>0.20</td>\n      <td>0.00</td>\n      <td>0.00</td>\n      <td>0.00</td>\n      <td>0.00</td>\n      <td>0.00</td>\n      <td>蔡滨</td>\n      <td>164天</td>\n      <td>-7.59%</td>\n      <td>6年又116天</td>\n      <td>0.00</td>\n    </tr>\n    <tr>\n      <th>2274</th>\n      <td>鹏华成长智选混合A</td>\n      <td>10264</td>\n      <td>124.90亿元（2020-12-31）</td>\n      <td>2.06</td>\n      <td>0.00</td>\n      <td>0.00</td>\n      <td>0.00</td>\n      <td>0.00</td>\n      <td>0.00</td>\n      <td>包兵华/梁浩</td>\n      <td>182天</td>\n      <td>-1.79%</td>\n      <td>2年又0天/9年又282天</td>\n      <td>0.00</td>\n    </tr>\n    <tr>\n      <th>648</th>\n      <td>东方红启瑞三年持有混合A</td>\n      <td>910011</td>\n      <td>--亿元（--）</td>\n      <td>0.00</td>\n      <td>0.00</td>\n      <td>0.00</td>\n      <td>0.00</td>\n      <td>0.00</td>\n      <td>3.48</td>\n      <td>高义</td>\n      <td>28天</td>\n      <td>0.90%</td>\n      <td>105天</td>\n      <td>0.00</td>\n    </tr>\n    <tr>\n      <th>641</th>\n      <td>财通资管优选回报一年持有期混合</td>\n      <td>9774</td>\n      <td>18.31亿元（2020-12-31）</td>\n      <td>3.59</td>\n      <td>0.00</td>\n      <td>0.00</td>\n      <td>0.00</td>\n      <td>0.00</td>\n      <td>0.00</td>\n      <td>于洋</td>\n      <td>229天</td>\n      <td>-9.39%</td>\n      <td>2年又276天</td>\n      <td>0.00</td>\n    </tr>\n    <tr>\n      <th>639</th>\n      <td>广发创新医疗两年持有混合A</td>\n      <td>10731</td>\n      <td>5.04亿元（2021-03-19）</td>\n      <td>4.69</td>\n      <td>0.00</td>\n      <td>0.00</td>\n      <td>0.00</td>\n      <td>0.00</td>\n      <td>4.69</td>\n      <td>吴兴武</td>\n      <td>31天</td>\n      <td>2.16%</td>\n      <td>6年又68天</td>\n      <td>0.00</td>\n    </tr>\n    <tr>\n      <th>2294</th>\n      <td>交银内需增长一年持有混合</td>\n      <td>10454</td>\n      <td>49.50亿元（2020-12-11）</td>\n      <td>4.66</td>\n      <td>0.00</td>\n      <td>0.00</td>\n      <td>0.00</td>\n      <td>0.00</td>\n      <td>0.66</td>\n      <td>韩威俊</td>\n      <td>129天</td>\n      <td>-0.32%</td>\n      <td>5年又91天</td>\n      <td>0.00</td>\n    </tr>\n    <tr>\n      <th>2297</th>\n      <td>国寿安保高股息混合C</td>\n      <td>9501</td>\n      <td>0.01亿元（2020-12-31）</td>\n      <td>0.00</td>\n      <td>0.00</td>\n      <td>0.00</td>\n      <td>0.00</td>\n      <td>0.00</td>\n      <td>0.00</td>\n      <td>黎晓晖/张琦</td>\n      <td>204天</td>\n      <td>-4.73%</td>\n      <td>2年又162天/10年又171天</td>\n      <td>0.00</td>\n    </tr>\n    <tr>\n      <th>2299</th>\n      <td>鹏华汇智优选混合C</td>\n      <td>10895</td>\n      <td>5.84亿元（2021-01-08）</td>\n      <td>1.51</td>\n      <td>0.00</td>\n      <td>0.00</td>\n      <td>0.00</td>\n      <td>0.00</td>\n      <td>0.00</td>\n      <td>聂毅翔/梁浩</td>\n      <td>101天</td>\n      <td>-4.05%</td>\n      <td>3年又260天/9年又282天</td>\n      <td>0.00</td>\n    </tr>\n    <tr>\n      <th>2301</th>\n      <td>兴银策略智选混合C</td>\n      <td>10428</td>\n      <td>1.81亿元（2020-11-10）</td>\n      <td>0.07</td>\n      <td>0.00</td>\n      <td>0.00</td>\n      <td>0.00</td>\n      <td>0.00</td>\n      <td>0.00</td>\n      <td>张世略/杨坤</td>\n      <td>160天</td>\n      <td>-3.57%</td>\n      <td>160天/2年又28天</td>\n      <td>0.00</td>\n    </tr>\n    <tr>\n      <th>3197</th>\n      <td>银河臻选多策略混合C</td>\n      <td>8387</td>\n      <td>0.03亿元（2020-12-31）</td>\n      <td>0.09</td>\n      <td>0.00</td>\n      <td>0.00</td>\n      <td>0.00</td>\n      <td>0.00</td>\n      <td>0.00</td>\n      <td>郑巍山/张沛</td>\n      <td>345天</td>\n      <td>-0.82%</td>\n      <td>1年又344天/3年又77天</td>\n      <td>0.00</td>\n    </tr>\n    <tr>\n      <th>2302</th>\n      <td>工银灵动价值混合C</td>\n      <td>10745</td>\n      <td>2.88亿元（2020-12-25）</td>\n      <td>1.03</td>\n      <td>0.00</td>\n      <td>0.00</td>\n      <td>0.00</td>\n      <td>0.00</td>\n      <td>0.00</td>\n      <td>王筱苓</td>\n      <td>115天</td>\n      <td>-1.08%</td>\n      <td>10年又240天</td>\n      <td>0.00</td>\n    </tr>\n    <tr>\n      <th>3195</th>\n      <td>农银策略收益一年持有混合</td>\n      <td>10347</td>\n      <td>78.85亿元（2021-01-27）</td>\n      <td>0.00</td>\n      <td>0.00</td>\n      <td>0.00</td>\n      <td>0.00</td>\n      <td>0.00</td>\n      <td>0.00</td>\n      <td>张峰</td>\n      <td>82天</td>\n      <td>-3.04%</td>\n      <td>5年又216天</td>\n      <td>0.00</td>\n    </tr>\n    <tr>\n      <th>2306</th>\n      <td>创金合信景雯灵活配置混合A</td>\n      <td>10597</td>\n      <td>0.86亿元（2021-02-19）</td>\n      <td>1.49</td>\n      <td>0.00</td>\n      <td>0.00</td>\n      <td>0.00</td>\n      <td>0.00</td>\n      <td>1.49</td>\n      <td>黄弢</td>\n      <td>59天</td>\n      <td>0.63%</td>\n      <td>346天</td>\n      <td>0.00</td>\n    </tr>\n    <tr>\n      <th>3179</th>\n      <td>大成丰享回报混合A</td>\n      <td>9653</td>\n      <td>3.12亿元（2020-11-18）</td>\n      <td>0.89</td>\n      <td>0.00</td>\n      <td>0.00</td>\n      <td>0.00</td>\n      <td>0.00</td>\n      <td>0.22</td>\n      <td>孙丹/王磊</td>\n      <td>152天</td>\n      <td>-0.08%</td>\n      <td>3年又347天/7年又318天</td>\n      <td>0.00</td>\n    </tr>\n    <tr>\n      <th>117</th>\n      <td>创金合信竞争优势混合A</td>\n      <td>11206</td>\n      <td>25.03亿元（2021-01-25）</td>\n      <td>2.29</td>\n      <td>0.00</td>\n      <td>0.00</td>\n      <td>0.00</td>\n      <td>0.00</td>\n      <td>0.00</td>\n      <td>李游</td>\n      <td>84天</td>\n      <td>-11.62%</td>\n      <td>4年又169天</td>\n      <td>0.00</td>\n    </tr>\n    <tr>\n      <th>628</th>\n      <td>鹏华高质量增长混合A</td>\n      <td>10490</td>\n      <td>31.22亿元（2020-11-18）</td>\n      <td>3.08</td>\n      <td>0.00</td>\n      <td>0.00</td>\n      <td>0.00</td>\n      <td>0.00</td>\n      <td>3.15</td>\n      <td>谢书英</td>\n      <td>152天</td>\n      <td>0.69%</td>\n      <td>7年又2天</td>\n      <td>0.00</td>\n    </tr>\n    <tr>\n      <th>626</th>\n      <td>富国融泰三个月定开混合发起式</td>\n      <td>10400</td>\n      <td>10.10亿元（2021-02-03）</td>\n      <td>0.00</td>\n      <td>0.00</td>\n      <td>0.00</td>\n      <td>0.00</td>\n      <td>0.00</td>\n      <td>0.00</td>\n      <td>杨栋</td>\n      <td>75天</td>\n      <td>-9.91%</td>\n      <td>5年又246天</td>\n      <td>0.00</td>\n    </tr>\n    <tr>\n      <th>622</th>\n      <td>宝盈基础产业混合A</td>\n      <td>10383</td>\n      <td>20.31亿元（2021-02-02）</td>\n      <td>2.97</td>\n      <td>0.00</td>\n      <td>0.00</td>\n      <td>0.00</td>\n      <td>0.00</td>\n      <td>0.00</td>\n      <td>李健伟</td>\n      <td>76天</td>\n      <td>-5.60%</td>\n      <td>4年又85天</td>\n      <td>0.00</td>\n    </tr>\n    <tr>\n      <th>2318</th>\n      <td>兴银策略智选混合A</td>\n      <td>10427</td>\n      <td>0.58亿元（2020-11-10）</td>\n      <td>0.11</td>\n      <td>0.00</td>\n      <td>0.00</td>\n      <td>0.00</td>\n      <td>0.00</td>\n      <td>0.00</td>\n      <td>张世略/杨坤</td>\n      <td>160天</td>\n      <td>-3.29%</td>\n      <td>160天/2年又28天</td>\n      <td>0.00</td>\n    </tr>\n    <tr>\n      <th>2326</th>\n      <td>广发均衡增长混合A</td>\n      <td>10534</td>\n      <td>76.14亿元（2021-01-27）</td>\n      <td>1.04</td>\n      <td>0.00</td>\n      <td>0.00</td>\n      <td>0.00</td>\n      <td>0.00</td>\n      <td>0.70</td>\n      <td>王颂</td>\n      <td>82天</td>\n      <td>0.04%</td>\n      <td>5年又6天</td>\n      <td>0.00</td>\n    </tr>\n    <tr>\n      <th>2329</th>\n      <td>国泰民裕进取灵活配置混合</td>\n      <td>6354</td>\n      <td>0.53亿元（2020-12-31）</td>\n      <td>0.63</td>\n      <td>0.00</td>\n      <td>0.00</td>\n      <td>0.00</td>\n      <td>0.00</td>\n      <td>0.00</td>\n      <td>饶玉涵</td>\n      <td>202天</td>\n      <td>-2.27%</td>\n      <td>5年又224天</td>\n      <td>0.00</td>\n    </tr>\n    <tr>\n      <th>2331</th>\n      <td>太平睿安混合A</td>\n      <td>10268</td>\n      <td>2.69亿元（2020-11-10）</td>\n      <td>1.12</td>\n      <td>0.00</td>\n      <td>0.00</td>\n      <td>0.00</td>\n      <td>0.00</td>\n      <td>3.86</td>\n      <td>陈晓</td>\n      <td>160天</td>\n      <td>3.07%</td>\n      <td>6年又293天</td>\n      <td>0.00</td>\n    </tr>\n    <tr>\n      <th>3182</th>\n      <td>华泰柏瑞量化创享混合C</td>\n      <td>10138</td>\n      <td>1.20亿元（2020-12-30）</td>\n      <td>0.93</td>\n      <td>0.00</td>\n      <td>0.00</td>\n      <td>0.00</td>\n      <td>0.00</td>\n      <td>0.00</td>\n      <td>盛豪/田汉卿</td>\n      <td>110天</td>\n      <td>-0.49%</td>\n      <td>5年又190天/7年又262天</td>\n      <td>0.00</td>\n    </tr>\n    <tr>\n      <th>2333</th>\n      <td>易方达远见成长混合A</td>\n      <td>10115</td>\n      <td>72.14亿元（2021-03-05）</td>\n      <td>1.65</td>\n      <td>0.00</td>\n      <td>0.00</td>\n      <td>0.00</td>\n      <td>0.00</td>\n      <td>1.94</td>\n      <td>武阳</td>\n      <td>45天</td>\n      <td>1.16%</td>\n      <td>5年又259天</td>\n      <td>0.00</td>\n    </tr>\n    <tr>\n      <th>2339</th>\n      <td>广发均衡增长混合C</td>\n      <td>10535</td>\n      <td>3.17亿元（2021-01-27）</td>\n      <td>1.02</td>\n      <td>0.00</td>\n      <td>0.00</td>\n      <td>0.00</td>\n      <td>0.00</td>\n      <td>0.65</td>\n      <td>王颂</td>\n      <td>82天</td>\n      <td>-0.01%</td>\n      <td>5年又6天</td>\n      <td>0.00</td>\n    </tr>\n    <tr>\n      <th>1612</th>\n      <td>富国创新科技混合C</td>\n      <td>11120</td>\n      <td>0.00亿元（2020-12-31）</td>\n      <td>3.17</td>\n      <td>0.00</td>\n      <td>0.00</td>\n      <td>0.00</td>\n      <td>0.00</td>\n      <td>0.00</td>\n      <td>李元博</td>\n      <td>112天</td>\n      <td>-5.40%</td>\n      <td>6年又183天</td>\n      <td>0.00</td>\n    </tr>\n  </tbody>\n</table>\n<p>3505 rows × 14 columns</p>\n</div>"
     },
     "metadata": {},
     "execution_count": 63
    }
   ],
   "source": [
    "df.sort_values(by=\"bj\",ascending=False)"
   ]
  },
  {
   "cell_type": "code",
   "execution_count": null,
   "metadata": {},
   "outputs": [],
   "source": []
  }
 ],
 "metadata": {
  "kernelspec": {
   "name": "python365jvsc74a57bd026ac3042b0ef4f715e51e43b66ed3d101718a7e45dfc231f31acdb384adb79cc",
   "display_name": "Python 3.6.5 64-bit (conda)"
  },
  "language_info": {
   "codemirror_mode": {
    "name": "ipython",
    "version": 3
   },
   "file_extension": ".py",
   "mimetype": "text/x-python",
   "name": "python",
   "nbconvert_exporter": "python",
   "pygments_lexer": "ipython3",
   "version": "3.6.5"
  }
 },
 "nbformat": 4,
 "nbformat_minor": 4
}