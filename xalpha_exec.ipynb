{
 "nbformat": 4,
 "nbformat_minor": 2,
 "metadata": {
  "language_info": {
   "name": "python",
   "codemirror_mode": {
    "name": "ipython",
    "version": 3
   },
   "version": "3.6.5-final"
  },
  "orig_nbformat": 2,
  "file_extension": ".py",
  "mimetype": "text/x-python",
  "name": "python",
  "npconvert_exporter": "python",
  "pygments_lexer": "ipython3",
  "version": 3,
  "kernelspec": {
   "name": "python365jvsc74a57bd026ac3042b0ef4f715e51e43b66ed3d101718a7e45dfc231f31acdb384adb79cc",
   "display_name": "Python 3.6.5 64-bit (conda)"
  }
 },
 "cells": [
  {
   "source": [
    "### 看看基金一季是不是已经出来  \n",
    "\n",
    "示例网址：\n",
    "http://fundf10.eastmoney.com/jjgg_009394.html\n",
    "\n",
    "\n",
    "### 2021年4月7日 更改： 获得股票的基金持仓信息"
   ],
   "cell_type": "markdown",
   "metadata": {}
  },
  {
   "source": [
    "xalpha 使用 \n",
    "\n",
    "[参考网址](https://nbviewer.jupyter.org/github/refraction-ray/xalpha/blob/master/doc/samples/policy.ipynb)\n",
    "\n",
    "###  获得股票的基金持仓信息\n",
    "\n"
   ],
   "cell_type": "markdown",
   "metadata": {}
  },
  {
   "cell_type": "code",
   "execution_count": null,
   "metadata": {},
   "outputs": [],
   "source": [
    " import xalpha as xa\n",
    " import pandas as pd"
   ]
  },
  {
   "cell_type": "code",
   "execution_count": null,
   "metadata": {},
   "outputs": [],
   "source": [
    "jshs = xa.fundinfo('000311')"
   ]
  },
  {
   "cell_type": "code",
   "execution_count": null,
   "metadata": {},
   "outputs": [],
   "source": [
    "bah = xa.policy.buyandhold(jshs, start='2017-01-01', totmoney=100000)\n",
    "# 简单的一次性买入类，从 start 日买入后就一直持有，始终选择分红再投入"
   ]
  },
  {
   "cell_type": "code",
   "execution_count": null,
   "metadata": {},
   "outputs": [],
   "source": [
    " jshs = xa.fundinfo('007490')   # 获得基金信息\n",
    " jshs.get_stock_holdings(2020,4)   # 基金某一季度的持仓"
   ]
  },
  {
   "cell_type": "code",
   "execution_count": null,
   "metadata": {},
   "outputs": [],
   "source": [
    "# df = jshs.get_stock_holdings(\"2020\",\"4\")\n",
    "jshs.info()"
   ]
  },
  {
   "cell_type": "code",
   "execution_count": null,
   "metadata": {},
   "outputs": [],
   "source": [
    "df.loc[df.code==\"300502\"]"
   ]
  },
  {
   "cell_type": "code",
   "execution_count": null,
   "metadata": {},
   "outputs": [],
   "source": [
    "row_list = []\n",
    "for index,rows in df.loc[df.code==\"300502\"].iterrows():\n",
    "    my_list = [rows.code,rows.name,rows.ratio,rows.share,rows.value]\n",
    "    print(rows.name)\n",
    "    print(rows[\"name\"])\n",
    "    print(rows.code)\n",
    "    row_list.append(my_list)\n",
    "print(row_list)"
   ]
  },
  {
   "cell_type": "code",
   "execution_count": null,
   "metadata": {},
   "outputs": [],
   "source": [
    "df.loc[df.code==\"300502\"]"
   ]
  },
  {
   "cell_type": "code",
   "execution_count": null,
   "metadata": {},
   "outputs": [],
   "source": [
    "#df3 = jshs.get_stock_holdings(2020,3)\n",
    "df_result = df3.loc[df3.code==\"300502\"]"
   ]
  },
  {
   "cell_type": "code",
   "execution_count": null,
   "metadata": {},
   "outputs": [],
   "source": [
    "df_result.to_csv()"
   ]
  },
  {
   "cell_type": "code",
   "execution_count": null,
   "metadata": {},
   "outputs": [],
   "source": [
    "bah.status\n",
    "# 第二三列表示此两日恰为分红日，选择了分红再投入"
   ]
  },
  {
   "cell_type": "code",
   "execution_count": null,
   "metadata": {},
   "outputs": [],
   "source": [
    "jshs.fenhongdate\n",
    "# 验证该两日确实分红"
   ]
  },
  {
   "cell_type": "code",
   "execution_count": null,
   "metadata": {},
   "outputs": [],
   "source": [
    "bah.sellout('2018-06-01') # 选定日期全部卖出"
   ]
  },
  {
   "cell_type": "code",
   "execution_count": null,
   "metadata": {},
   "outputs": [],
   "source": [
    "bah.status\n"
   ]
  },
  {
   "cell_type": "code",
   "execution_count": null,
   "metadata": {},
   "outputs": [],
   "source": [
    "jshstrade = xa.trade(jshs,bah.status)"
   ]
  },
  {
   "cell_type": "code",
   "execution_count": null,
   "metadata": {},
   "outputs": [],
   "source": [
    "jshstrade.xirrrate()"
   ]
  },
  {
   "cell_type": "code",
   "execution_count": null,
   "metadata": {
    "tags": []
   },
   "outputs": [],
   "source": [
    "# 从东财获得所有的基金代码\n",
    "\n",
    "from urllib.request import urlopen\n",
    "import time\n",
    "import datetime\n",
    "import glob\n",
    "import json\n",
    "import pandas\n",
    "\n",
    "\n",
    "# 今日零时 \n",
    "strtoday = datetime.datetime.strftime(datetime.datetime.now(), '%Y-%m-%d')\n",
    "tdatetime = datetime.datetime.strptime(strtoday, '%Y-%m-%d')\n",
    "\n",
    "fundlist_files = glob.glob('fundlist-*.txt')\n",
    "if (len(fundlist_files) > 0) :\n",
    "    # print fundlist_files[0]\n",
    "    # 读取文件内容\n",
    "    file_object = open(fundlist_files[0], 'r',encoding=\"utf8\")\n",
    "    try:\n",
    "        all_funds_txt = file_object.read()\n",
    "        #print all_funds_txt\n",
    "    finally:\n",
    "        file_object.close()\n",
    "else:\n",
    "    response_all_funds = urlopen('http://fund.eastmoney.com/js/fundcode_search.js')\n",
    "    all_funds_txt = response_all_funds.read().decode(\"utf8\")\n",
    "            #存文件\n",
    "    file_object = open('fundlist-' + strtoday + '.txt', 'w',encoding=\"utf8\")\n",
    "    try:\n",
    "        file_object.write(all_funds_txt)\n",
    "        #print all_funds_txt\n",
    "    finally:\n",
    "        file_object.close()\n",
    "\n",
    "\t#处理数据 将其转化为list\n",
    "all_funds_txt = all_funds_txt[all_funds_txt.find('=')+2:all_funds_txt.rfind(';')]\n",
    "all_funds_list = json.loads(all_funds_txt)\n",
    "    \n",
    "print('start:')\n",
    "print(datetime.datetime.now())\n",
    "print('funds sum:' + str(len(all_funds_list)))\n",
    "\n",
    "# 4 循环处理每个基金\n",
    "# for fund in all_funds_list:\n",
    "#     print(fund)\n",
    "print(len(all_funds_list))"
   ]
  },
  {
   "cell_type": "code",
   "execution_count": null,
   "metadata": {},
   "outputs": [],
   "source": [
    "import pandas as pd"
   ]
  },
  {
   "cell_type": "code",
   "execution_count": null,
   "metadata": {},
   "outputs": [],
   "source": [
    "df_fund_list = pd.DataFrame(all_funds_list,columns=[\"code\",\"jc\",\"name\",\"type\",\"py\"])  # 将基金转为DF"
   ]
  },
  {
   "cell_type": "code",
   "execution_count": null,
   "metadata": {},
   "outputs": [],
   "source": [
    "df_fund_list.groupby(\"type\").count()  # 计算不同类型基金的数量"
   ]
  },
  {
   "cell_type": "code",
   "execution_count": null,
   "metadata": {},
   "outputs": [],
   "source": [
    "## 想看持仓的话，只需要看混合型 与股票型 、股票批数基金\n"
   ]
  },
  {
   "cell_type": "code",
   "execution_count": null,
   "metadata": {},
   "outputs": [],
   "source": [
    "len(df_fund_list[df_fund_list.type.isin()])"
   ]
  },
  {
   "cell_type": "code",
   "execution_count": null,
   "metadata": {},
   "outputs": [],
   "source": [
    "mytype = [\"混合型\",\"股票型\",\"股票指数\"]  # 想要筛选的基金类型\n",
    "print(len(df_fund_list[df_fund_list.type.isin(mytype)]))"
   ]
  },
  {
   "cell_type": "code",
   "execution_count": null,
   "metadata": {},
   "outputs": [],
   "source": [
    "df_fund_list[df_fund_list.type.isin(mytype)].head()"
   ]
  },
  {
   "cell_type": "code",
   "execution_count": null,
   "metadata": {
    "tags": []
   },
   "outputs": [],
   "source": [
    "from tqdm.notebook import tqdm\n",
    "df = df_fund_list[df_fund_list.type.isin(mytype)]\n",
    "print(len(df))\n",
    "pbar = tqdm(total = len(df))\n",
    "row_list = []\n",
    "\n",
    "for index1,rows1 in df.iterrows():\n",
    "    pbar.update(1)\n",
    "    #print(rows1.code)\n",
    "    #print(rows1.code,rows1[\"name\"])\n",
    "    check_fund(rows1.code,rows1[\"name\"])\n",
    "print(row_list)\n",
    "    "
   ]
  },
  {
   "cell_type": "code",
   "execution_count": null,
   "metadata": {},
   "outputs": [],
   "source": [
    "def check_fund(fundcode,fundname): \n",
    "    try:\n",
    "        jjxx = xa.fundinfo(fundcode)   # 获得基金信息\n",
    "        dftemp = jjxx.get_stock_holdings(\"2020\",\"4\")   # 基金某一季度的持仓\n",
    "\n",
    "        for index,rows in dftemp.loc[dftemp.code==\"300502\"].iterrows():\n",
    "            my_list = [rows.code,rows[\"name\"],rows.ratio,rows.share,rows.value,fundcode,fundname]\n",
    "            # print(rows.name)\n",
    "            # print(rows[\"name\"])\n",
    "            # print(rows.code)\n",
    "            row_list.append(my_list)\n",
    "            #mylist.to_csv()\n",
    "    except:\n",
    "        print(fundcode,\" error\")\n",
    "check_fund(\"007490\",\"南方信息创新混合A\")\n",
    "\n",
    "#fund name: 南方信息创新混合A\n",
    "#fund code: 007490"
   ]
  },
  {
   "cell_type": "code",
   "execution_count": null,
   "metadata": {},
   "outputs": [],
   "source": [
    "print(row_list)"
   ]
  },
  {
   "source": [
    "### 300502的基金持仓信息\n",
    "#http://data.eastmoney.com/zlsj/detail/2020-12-31-0-300502.html"
   ],
   "cell_type": "markdown",
   "metadata": {}
  },
  {
   "source": [
    "###  获得股票的基金持仓信息\n",
    "## http://data.eastmoney.com/dataapi/zlsj/detail?SHType=0&SHCode=&SCode=300502&ReportDate=2020-12-31&sortField=SHCode&sortDirec=1&pageNum=3&pageSize=30&p=3&pageNo=3\n"
   ],
   "cell_type": "markdown",
   "metadata": {}
  },
  {
   "cell_type": "code",
   "execution_count": null,
   "metadata": {},
   "outputs": [],
   "source": [
    "import requests\n",
    "from FundCrawler.FakeUAGetter import my_fake_ua\n",
    "import json\n",
    "import pandas as pd\n",
    "\n",
    "def get_page_context(url) -> tuple:\n",
    "    \"\"\"\n",
    "    用于爬取页面 爬取特定的网页\n",
    "    :param timeout: 爬取timeout设置，可为一个数字，或一个元组\n",
    "    :param url:要爬取的url\n",
    "    :return: 返回二元组 爬取结果，网页内容\n",
    "    \"\"\"\n",
    "    header = {\"User-Agent\": my_fake_ua.random}\n",
    "    import requests\n",
    "    try:\n",
    "        page = requests.get(url, headers=header)\n",
    "        page.encoding = 'utf-8'\n",
    "        result = ('success', page.text)\n",
    "    except (requests.exceptions.ConnectionError, requests.exceptions.Timeout, requests.exceptions.HTTPError):\n",
    "        result = ('error', url)\n",
    "    return result\n",
    "\n",
    "result = get_page_context(\"http://data.eastmoney.com/dataapi/zlsj/detail?SHType=0&SHCode=&SCode=300502&ReportDate=2020-12-31&sortField=SHCode&sortDirec=1&pageNum=3&pageSize=30&p=3&pageNo=3\")"
   ]
  },
  {
   "cell_type": "code",
   "execution_count": null,
   "metadata": {},
   "outputs": [],
   "source": [
    "import numpy as np\n",
    "scode = \"300502\"\n",
    "sdate = \"2020-12-31\"\n",
    "\n",
    "def get_cyjj(scode,sdate):  # 获取股票scode的基金持股信息，基于sdate发布的基金报告\n",
    "    #返回df : \"基金代码\",\"基金名称\",\"类型\",\"持股总数\",\"持股市值\",\"占总股本比例\",\"占流通市值比例\"\n",
    "    \n",
    "    url = \"http://data.eastmoney.com/dataapi/zlsj/detail?SHType=0&SHCode=&SCode=%s&ReportDate=%s\" % (scode,sdate)\n",
    "    result = get_page_context(url)\n",
    "    fund_list = json.loads(result[1])\n",
    "    df = pd.DataFrame(fund_list['data'])\n",
    "    if(len(df)==0):\n",
    "        print(\"截到%s,股票%s没有基金持有\"% (sdate,scode))\n",
    "        return None\n",
    "    else:\n",
    "        df = df[[\"f3\",\"f4\",\"f8\",\"f9\",\"f10\",\"f11\",\"f12\"]].copy() # f3 基金代码 ， f4  基金名称, f8 类型, f9 持股总数，f10 持股市值， f11 占总股本比例，f12 占流通市值比例\n",
    "        df[[\"f9\",\"f10\",\"f11\",\"f12\"]]=df[[\"f9\",\"f10\",\"f11\",\"f12\"]].apply(pd.to_numeric,errors='coerce')\n",
    "        df.columns = [\"基金代码\",\"基金名称\",\"类型\",\"持股总数\",\"持股市值\",\"占总股本比例\",\"占流通市值比例\"]\n",
    "        print(\"截到%s,股票%s共有%d家基金持有，持股总数为%.0f\" % (sdate,scode,len(df),df[\"持股总数\"].sum()))\n",
    "        # print(len(df))\n",
    "        return df\n",
    "\n",
    "df2002 = get_cyjj(\"300502\",\"2020-06-30\")\n",
    "df2003 = get_cyjj(\"300502\",\"2020-09-30\")\n",
    "df2004 = get_cyjj(\"300502\",\"2020-12-31\")\n"
   ]
  },
  {
   "cell_type": "code",
   "execution_count": null,
   "metadata": {},
   "outputs": [],
   "source": [
    "scode = \"605008\"\n",
    "for sdate in [\"2020-06-30\",\"2020-09-30\",\"2020-12-31\"]:\n",
    "    get_cyjj(scode,sdate)\n",
    "#df=get_cyjj(scode,sdate=\"2020-09-30\")"
   ]
  },
  {
   "cell_type": "code",
   "execution_count": null,
   "metadata": {},
   "outputs": [],
   "source": [
    "#df = df[[\"f3\",\"f4\",\"f8\",\"f9\",\"f10\",\"f11\",\"f12\"]].copy()\n",
    "df.to_excel(\"temp.xlsx\")"
   ]
  },
  {
   "cell_type": "code",
   "execution_count": null,
   "metadata": {},
   "outputs": [],
   "source": [
    "# 合并两个季度的基金持股数据进行比较\n",
    "dftemp = pd.merge(df2003[[\"基金代码\",\"持股总数\"]],df2004[[\"基金代码\",\"持股总数\",\"基金名称\",\"占流通市值比例\"]],how=\"outer\",on=\"基金代码\")\n",
    "\n",
    "dftemp.columns= [\"code\",\"s2003\",\"s2004\",\"name\",\"ration04\"]\n",
    "dftemp.s2003 = dftemp.s2003.astype(float)\n",
    "dftemp.s2004 = dftemp.s2004.astype(float)\n",
    "dftemp.fillna(0,inplace=True)\n",
    "dftemp[\"diff\"] = dftemp.s2004-dftemp.s2003"
   ]
  },
  {
   "cell_type": "code",
   "execution_count": null,
   "metadata": {
    "tags": []
   },
   "outputs": [],
   "source": [
    "dftemp.sort_values(by=\"diff\",ascending=False).to_excel(\"300502基金持股.xls\")"
   ]
  },
  {
   "cell_type": "code",
   "execution_count": null,
   "metadata": {},
   "outputs": [],
   "source": [
    "df2004."
   ]
  },
  {
   "source": [
    "### 看看基金一季是不是已经出来  \n",
    "\n",
    "示例网址：\n",
    "http://fundf10.eastmoney.com/jjgg_881007_3.html"
   ],
   "cell_type": "markdown",
   "metadata": {}
  },
  {
   "cell_type": "code",
   "execution_count": 1,
   "metadata": {},
   "outputs": [
    {
     "output_type": "stream",
     "name": "stdout",
     "text": [
      "没有安装fake_useragent模块，offline将设置为True\noffline设置为True，将不更新ua库\nfake_useragent库更新失败，正在使用本地ua库\n"
     ]
    }
   ],
   "source": [
    "import common as ct\n",
    "import re"
   ]
  },
  {
   "cell_type": "code",
   "execution_count": 2,
   "metadata": {},
   "outputs": [],
   "source": [
    "result=ct.get_page_context(\"http://fundf10.eastmoney.com/jjgg_881007_3.html\")"
   ]
  },
  {
   "cell_type": "code",
   "execution_count": 3,
   "metadata": {
    "tags": []
   },
   "outputs": [],
   "source": [
    "page_context = result[1]"
   ]
  },
  {
   "cell_type": "code",
   "execution_count": null,
   "metadata": {},
   "outputs": [],
   "source": [
    "#report = re.search(r'<td (.|\\n)*?<a.*2021年第1季度报告(.|\\n)*?<a class=\"pdf\" href=\"(.*?)\"', page_context)\n",
    "report = re.search('<td (.|\\n)*?<a.*2021年第1季度报告', page_context,re.MULTILINE|re.DOTALL)"
   ]
  },
  {
   "cell_type": "code",
   "execution_count": null,
   "metadata": {},
   "outputs": [],
   "source": [
    "print(report)"
   ]
  },
  {
   "cell_type": "code",
   "execution_count": 4,
   "metadata": {
    "tags": [
     "outputPrepend"
    ]
   },
   "outputs": [
    {
     "output_type": "stream",
     "name": "stdout",
     "text": [
      "  <div class=\"phone-qrcode\" onmouseover=\"document.getElementById('tipsQcode').style.display = 'block'\" onmouseout=\"document.getElementById('tipsQcode').style.display = 'none'\">\n                <span class=\"icon-phone\"></span>\n                <a class=\"text\">手机访问当前基金品种页</a>\n            </div>\n            <div id=\"tipsQcode\" class=\"tipsBubble  tipsQcode\">\n                <span class=\"poptip-arrow poptip-arrow-top\"><i>◆</i>\n                </span>\n                <img src=\"//fund.eastmoney.com/images/QRCode/881007.jpg\"><p>扫一扫二维码</p>\n                <p>用手机打开页面</p>\n            </div>\n        </div>\n    </div>\n</div>\n<div class=\"mainFrame\">\n    <div>\n        <iframe marginheight='0' marginwidth='0' frameborder='0' width='1000' height=\"60\" scrolling='no' src='//fundact.eastmoney.com/banner/hqb_hq.html?spm=001001.sbb'></iframe>\n    </div>\n</div>\n<div class=\"mainFrame\">\n    <div id=\"visitfund\"></div>\n</div>\n<script type=\"text/javascript\" src=\"//j5.dfcfw.com/js/pinzhong/getcookies_20140928104112.js\"></script>\n<script type=\"text/javascript\">\n    if (returnvisit != null && returnvisit != \"\") { document.getElementById(\"visitfund\").innerHTML = returnvisit; }\n</script>\n\n        <div class=\"mainFrame\">\n            <div class=\"space6\"></div>\n            <div class=\"l_menu left\">\n                \n<h3></h3>\n<div class=\"lm_out\">\n    <div class=\"lm_in\" id=\"dlcontent\">\n        <div class=\"backpz\"><a class=\"red\" href=\"//fund.eastmoney.com/881007.html\">返回基金品种页</a></div>\n        <dl>\n            <dt><span>基本资料</span><b class=\"ico pinch\"></b></dt>\n            <dd id=\"f10_menu_jjgk\"><a href=\"jbgk_881007.html\" target=\"_self\">基本概况</a></dd>\n            <dd id=\"f10_menu_jjjl\"><a href=\"jjjl_881007.html\" target=\"_self\">基金经理</a></dd>\n            <dd id=\"f10_menu_jjgs\"><a href=\"http://fund.eastmoney.com/company/80431710.html\" target=\"_blank\">基金公司</a></dd>\n            <dd id=\"f10_menu_jjpj\"><a href=\"jjpj_881007.html\" target=\"_self\">基金评级</a></dd>\n            <dd id=\"f10_menu_tssj\" class=\"nb\"><a href=\"tsdata_881007.html\" target=\"_self\">特色数据</a></dd>\n        </dl>\n        <dl>\n            <dt><span>净值回报</span><b class=\"ico pinch\"></b></dt>\n            <dd id=\"f10_menu_lsjz\"><a href=\"jjjz_881007.html\" target=\"_self\">历史净值</a><b class=\"ico hot\"></b></dd>\n            <dd id=\"f10_menu_fhsp\"><a href=\"fhsp_881007.html\" target=\"_self\">分红送配</a></dd>\n            <dd id=\"f10_menu_jdzf\"><a href=\"jdzf_881007.html\" target=\"_self\">阶段涨幅</a></dd>\n            <dd id=\"f10_menu_jndzf\" class=\"nb\"><a href=\"jndzf_881007.html\" target=\"_self\">季/年度涨幅</a></dd>\n        </dl>\n        <dl>\n            <dt><span>投资组合</span><b class=\"ico pinch\"></b></dt>\n            <dd id=\"f10_menu_jjcc\"><a href=\"ccmx_881007.html\" target=\"_self\">基金持仓</a></dd>\n            <dd id=\"f10_menu_zqcc\"><a href=\"ccmx1_881007.html\" target=\"_self\">债券持仓</a></dd>\n            <dd id=\"f10_menu_ccbdzs\"><a href=\"ccbdzs_881007.html\" target=\"_self\">持仓变动走势</a></dd>\n            <dd id=\"f10_menu_hypz\"><a href=\"hytz_881007.html\" target=\"_self\">行业配置</a></dd>\n            <dd id=\"f10_menu_hypzsy\"><a href=\"hypzsy_881007.html\" target=\"_self\">行业配置比较</a></dd>\n            <dd id=\"f10_menu_zcpz\"><a href=\"zcpz_881007.html\" target=\"_self\">资产配置</a></dd>\n            <dd id=\"f10_menu_zdbd\" class=\"nb\"><a href=\"ccbd_881007.html\" target=\"_self\">重大变动</a></dd>\n        </dl>\n        <dl>\n            <dt><span>规模份额</span><b class=\"ico pinch\"></b></dt>\n            <dd id=\"f10_menu_gmbd\"><a href=\"gmbd_881007.html\" target=\"_self\">规模变动</a></dd>\n            <dd id=\"f10_menu_cyrjg\" class=\"nb\"><a href=\"cyrjg_881007.html\" target=\"_self\">持有人结构</a></dd>\n        </dl>\n        <dl>\n            <dt><span>基金公告</span><b class=\"ico pinch\"></b></dt>\n            <dd id=\"f10_menu_jjgg\"><a href=\"jjgg_881007.html\" target=\"_self\">全部公告</a></dd>\n            <dd id=\"f10_menu_fxyz\"><a href=\"jjgg_881007_1.html\" target=\"_self\">发行运作</a></dd>\n            <dd id=\"f10_menu_fhgg\"><a href=\"jjgg_881007_2.html\" target=\"_self\">分红公告</a></dd>\n            <dd id=\"f10_menu_dqbg\" class=\"at\"><a href=\"jjgg_881007_3.html\" target=\"_self\">定期报告</a></dd>\n            <dd id=\"f10_menu_rstz\"><a href=\"jjgg_881007_4.html\" target=\"_self\">人事调整</a></dd>\n            <dd id=\"f10_menu_jjxs\"><a href=\"jjgg_881007_5.html\" target=\"_self\">基金销售</a></dd>\n            <dd id=\"f10_menu_qtgg\" class=\"nb\"><a href=\"jjgg_881007_6.html\" target=\"_self\">其他公告</a></dd>\n        </dl>\n        <dl>\n            <dt><span>财务报表</span><b class=\"ico pinch\"></b></dt>\n            <dd id=\"f10_menu_cwzb\"><a href=\"cwzb_881007.html\" target=\"_self\">财务指标</a></dd>\n            <dd id=\"f10_menu_fzb\"><a href=\"zcfzb_881007.html\" target=\"_self\">资产负债表</a></dd>\n            <dd id=\"f10_menu_lrb\"><a href=\"lrfpb_881007.html\" target=\"_self\">利润表</a></dd>\n            \n            <dd id=\"f10_menu_srfx\"><a href=\"srfx_881007.html\" target=\"_self\">收入分析</a></dd>\n            <dd id=\"f10_menu_fyfx\" class=\"nb\"><a href=\"fyfx_881007.html\" target=\"_self\">费用分析</a></dd>\n        </dl>\n        <dl>\n            <dt><span>销售信息</span><b class=\"ico pinch\"></b></dt>\n            <dd id=\"f10_menu_jjfl\"><a href=\"jjfl_881007.html\" target=\"_self\">购买信息（费率表）</a></dd>\n            <dd id=\"f10_menu_jjzh\"><a href=\"jjzh_881007.html\" target=\"_self\">同公司基金转换</a></dd>\n            \n        </dl>\n    </div>\n</div>\n<div class=\"space6\"></div>\n<h3 class=\"rel\"><a href=\"http://fund.eastmoney.com/company/80431710.html\"></a></h3>\n<div class=\"lm_out relout\">\n    <div class=\"lm_in relin\">\n        <ul id='scompany'><li><b class=\"ico trig\"></b><a title='招商资管智远成长灵活配置混合C' href=\"jbgk_881007.html\">招商资管智远成长灵活配置混合C</a></li><li><b class=\"ico trig\"></b><a title='招商资管智远成长灵活配置混合A' href=\"jbgk_880007.html\">招商资管智远成长灵活配置混合A</a></li><li><b class=\"ico trig\"></b><a title='招商资管睿丰三个月持有债A' href=\"jbgk_881010.html\">招商资管睿丰三个月持有债A</a></li><li><b class=\"ico trig\"></b><a title='招商资管睿丰三个月持有债C' href=\"jbgk_881011.html\">招商资管睿丰三个月持有债C</a></li><li><b class=\"ico trig\"></b><a title='招商资管睿丰三个月持有债D' href=\"jbgk_880009.html\">招商资管睿丰三个月持有债D</a></li></ul><ul class=\"more\"><li><a href=\"//fund.eastmoney.com/company/80431710.html\">查看旗下全部基金>></a></li></ul>\n    </div>\n</div>\n\n            </div>\n            <div class=\"r_cont right\">\n                \n<div class=\"basic-new \">\n    <div class=\"bs_jz\">\n        <div class=\"col-left\">\n            <h4 class=\"title\"><a href=\"http://fund.eastmoney.com/881007.html\">招商资管智远成长灵活配置混合C (881007)</a></h4>\n            <div>\n                \n                <a class=\"btn  btn-gray \" href=\"javascript:;\" target=\"_self\">\n                    <span class=\"midd label\">购买</span>\n                    <span></span>\n                </a>\n\n                \n                <a class=\"btn btn-gray\">\n                    <span class=\"midd label\">定投</span>\n                </a>\n                \n                <a class=\"btn btn-blue sm\" href=\"http://fund.eastmoney.com/data/favorapi.aspx?c=881007\">\n                    <span class=\"midd label\">+加自选</span>\n                </a>\n            </div>\n\n        </div>\n        <div class=\"col-right\">\n            \n            <p class=\"row row1\">\n                <label>\n                    盘中估算：<span id=\"fund_gsz\" class=\"red lar bold guzhi\">0.9503</span>\n                    <span id=\"fundgz_icon\" class=\"icon  icon-up\"></span>\n                    <span id=\"fund_gszf\" class=\"red lar bold \">1.93%</span>\n                </label>\n                <label>\n                    单位净值（04-16）：\n                <b class=\"red lar bold\">\n                    0.9323 ( 0.88% )</b>\n                </label>\n            </p>\n            \n\n            <p class=\"row\">\n                <label>\n                    交易状态：<span>暂停申购 </span>\n                    \n                    <span>&nbsp;</span>\n                    <span>暂停赎回</span>\n                </label>\n            </p>\n            <p class=\"row\">\n                <label>\n                    购买手续费：\n                    <b class=\"sourcerate\"></b>&nbsp;\n                    <b>---</b>&nbsp;\n                    \n                    <a class=\"link-flxq\" href=\"//fundf10.eastmoney.com/jjfl_881007.html\" style=\"font-family: SimSun\">费率详情&gt;</a>\n                </label>\n\n                \n            </p>\n        </div>\n    </div>\n    <div class=\"bs_gl\">\n        <div class=\"space0\"></div>\n        <p>\n            <label>成立日期：<span>2020-10-13</span></label>\n            <label>\n                基金经理：&nbsp;&nbsp;<a href=\"//fund.eastmoney.com/manager/30190176.html\">倪文昊</a></label>\n            <label>类型：<span>混合型</span></label>\n            <label>管理人：<a href=\"http://fund.eastmoney.com/company/80431710.html\">招商证券资管</a></label>\n            <label>\n                资产规模：<span>\n                    1.08亿元\n                    （截止至：2021-03-31）</span></label>\n        </p>\n    </div>\n</div>\n\n<script type=\"text/javascript\">\n    setInterval(function () {\n        var today = new Date();\n        if (today.getDay() > 0 && today.getDay() < 6) {\n            if (today.getHours() >= 9 && today.getHours() < 12) {\n                reGetGZ('881007');\n            }\n            else if (today.getHours() >= 13 && today.getHours() < 15) {\n                reGetGZ('881007');\n            }\n    }\n    }, 45000);\n</script>\n\n                <div class=\"detail\">\n                    <div class=\"space8\"></div>\n                    <div class=\"tit_h3\">\n                        <div class=\"space0\"></div>\n                        <h1 class=\"left\">\n                            <a class=\"tit\" href=\"jjgg_881007.html\">基金公告</a><b class=\"ico arrow\"></b>\n                        </h1>\n                        \n                        <div class=\"right clearfix\" style=\"margin-top: 13px; padding-right: 10px;\">\n                            <div style=\"float:left; line-height: 30px;\"><label>其他基金基金公告查询：</label></div>\n                            <div class=\"searchbox\" style=\"position: relative; float: left;\">\n                                    <input type=\"text\" id=\"search-input1\" />\n                                </div>\n                        </div>\n                        \n                    </div>\n                    <div class=\"txt_cont\">\n                        <div class=\"txt_in\">\n                            <div class=\"box bx\">\n                                <div class=\"boxitem\">\n                                    <div class=\"tabcomm jjgg_tab\">\n                                        <h4>\n                                            <ul id=\"ggtab\">\n                                                <li><a href=\"jjgg_881007.html\" target=\"_self\">全部公告</a></li>\n                                                <li><a href=\"jjgg_881007_1.html\" target=\"_self\">发行运作</a></li>\n                                                <li><a href=\"jjgg_881007_2.html\" target=\"_self\">分红送配</a></li>\n                                                <li><a href=\"jjgg_881007_3.html\" target=\"_self\">定期报告</a></li>\n                                                <li><a href=\"jjgg_881007_4.html\" target=\"_self\">人事调整</a></li>\n                                                <li><a href=\"jjgg_881007_5.html\" target=\"_self\">基金销售</a></li>\n                                                <li><a href=\"jjgg_881007_6.html\" target=\"_self\">其他公告</a></li>\n                                            </ul>\n                                        </h4>\n                                        <div class=\"space0\"></div>\n                                        <div class=\"boxitem w790\">\n                                            <div id=\"ggtable\">\n                                                <div style=\"text-align: center; font-size: 14px;\">\n                                                    <img src=\"//j5.dfcfw.com/j1/images/loading2.gif\" title=\"数据加载中\" style=\"margin: 50px 10px; vertical-align: middle;\" />数据加载中...\n                                                </div>\n                                            </div>\n                                        </div>\n                                    </div>\n                                    <div class=\"space0\"></div>\n                                </div>\n                            </div>\n                            <div class=\"box nt\">\n                                <div class=\"boxitem w790\">\n                                    <div class=\"space0\"></div>\n                                    <div id=\"pagebar\">\n                                    </div>\n                                    <div class=\"space0\"></div>\n                                </div>\n                            </div>\n                        </div>\n                    </div>\n                </div>\n\n            </div>\n        </div>\n\n    </div>\n     <script src=\"//j5.dfcfw.com/js/f10/template_min_20180110132533.js\"></script>\n    <script src=\"//j5.dfcfw.com/sc/js/f10/templateHelper_min_202008261621.js\"></script>\n    <script id=\"jjggtmp\" type=\"text/html\">\n        <table class=\"w782 comm jjgg\">\n            <thead>\n                <tr>\n                    <th class=\"first title\">标题</th>\n                    <th>公告类型</th>\n                    <th class=\"last\">公告日期</th>\n                </tr>\n            </thead>\n            <tbody>\n                {{if Data && Data.length>0 }}\n                {{each Data as value index}} \n                <tr>\n                    <td class=\"tol\">\n                        <a  style=\"width:90%;line-height:20px;\" title=\"{{value.TITLE}}\" href=\"http://fund.eastmoney.com/gonggao/{{value.FUNDCODE}},{{value.ID}}.html\">{{value.TITLE}}</a>\n                        {{if value.ATTACHTYPE && value.ATTACHTYPE==\"0\"}}\n                            {{if value.TITLE.length>38}}\n                            <a class=\"pdf\"  style=\"margin-top:8px;\" href=\"http://pdf.dfcfw.com/pdf/H2_{{value.ID}}_1.pdf\"></a>\n                            {{else}}\n                            <a class=\"pdf\"  href=\"http://pdf.dfcfw.com/pdf/H2_{{value.ID}}_1.pdf\"></a>\n                            {{/if}}\n                        {{/if}}\n                    </td>\n                    <td>{{value.NEWCATEGORY |  getGGType}}</td>\n                    <td>{{value.PUBLISHDATEDesc}}</td>\n                </tr>\n                {{/each}}\n                {{else}}\n                    <tr>\n                        <td colspan=\"3\">暂无数据!</td>\n                    </tr>\n                {{/if}}\n            </tbody>\n        </table>\n    </script>\n    \n\n<div class=\"mainFrame\">\n    <div class=\"space6\"></div>\n    <div class=\"fund-common-declare\">郑重声明：以上信息（包括但不限于文字、视频、音频、数据及图表）均基于公开信息采集，相关信息并未经过本公司证实，本公司不保证该信息全部或者部分内容的准确性、真实性、完整性，不构成本公司任何推荐或保证。基金具体信息以管理人相关公告为准。投资者投资前需仔细阅读《基金合同》、《招募说明书》等法律文件，了解产品收益与风险特征。过往业绩不预示其未来表现，市场有风险，投资需谨慎。数据来源：东方财富Choice数据。</div>\n\n</div>\n<div class=\"mainFrame\">\n    <div class=\"space6\"></div>\n    <div class=\"fund-common-footer\"><p class=\"p1\"><a id=\"footer-setHome\" href=\"javascript:;\" target=\"_self\">将天天基金网设为上网首页吗？</a>&nbsp;&nbsp;&nbsp;&nbsp;&nbsp;&nbsp;<a id=\"foot-addFavor\" href=\"javascript:;\" target=\"_self\">将天天基金网添加到收藏夹吗？</a></p><p><a target=\"_blank\" href=\"http://help.1234567.com.cn/aboutus/about.html\">关于我们</a><span>|</span><a target=\"_blank\" href=\"http://help.1234567.com.cn/aboutus/licenses.html\">资质证明</a><span>|</span><a target=\"_blank\" href=\"http://fundact.eastmoney.com/ttjjyjzx/\">研究中心</a><span>|</span><a target=\"_blank\" href=\"http://help.1234567.com.cn/aboutus/connect.html\">联系我们</a><span>|</span><a target=\"_blank\" href=\"http://help.1234567.com.cn/aboutus/security_guid.html\">安全指引</a><span>|</span><a target=\"_blank\" href=\"http://help.1234567.com.cn/aboutus/relief.html\">免责条款</a><span>|</span><a target=\"_blank\" href=\"http://help.1234567.com.cn/aboutus/secret.html\">隐私条款</a><span>|</span><a target=\"_blank\" href=\"http://help.1234567.com.cn/aboutus/risktips.html\">风险提示函</a><span>|</span><a target=\"_blank\" href=\"http://feedback.1234567.com.cn/\">意见建议</a><span>|</span><a id=\"ttfund_online\" target=\"_self\" href=\"javascript:;\">在线客服</a></p><p class=\"cp\">        天天基金客服热线：95021&nbsp;/&nbsp;4001818188<span>|</span>客服邮箱：<a target=\"_blank\" href=\"mailto:vip@1234567.com.cn\">vip@1234567.com.cn</a><span>|</span>人工服务时间：工作日 7:30-21:30 双休日 9:00-21:30<br>        郑重声明：<a target=\"_blank\" href=\"http://help.1234567.com.cn/aboutus/licenses.html\" class=\"footFundCertLink\">天天基金系证监会批准的基金销售机构[000000303]</a>。天天基金网所载文章、数据仅供参考，使用前请核实，风险自负。<br>        中国证监会上海监管局网址：<a href=\"http://www.csrc.gov.cn/pub/shanghai/\" target=\"_blank\">www.csrc.gov.cn/pub/shanghai</a><br>        CopyRight&nbsp;&nbsp;上海天天基金销售有限公司&nbsp;&nbsp;2011-现在&nbsp;&nbsp;沪ICP证：沪B2-20130026&nbsp;&nbsp;网站备案号：沪ICP备11042629号-1<br><br></p><p><a class=\"footera footer-police\" title=\"上海网警网络110\" target=\"_blank\" href=\"http://www.cyberpolice.cn/\"></a><a class=\"footera footer-zx110\" title=\"网络社会征信网\" target=\"_blank\" href=\"http://www.zx110.org/\"></a><a class=\"footera footer-shjubao\" title=\"上海违法和违规信息举报中心\" target=\"_blank\" href=\"http://www.shjbzx.cn/\"></a><a class=\"footera footer-hgwb\" title=\"沪公网备\" target=\"_blank\" href=\"http://www.zx110.org/picp/?sn=310104031200\"></a></p><script type=\"text/javascript\" src=\"//j5.dfcfw.com/libs/js/counter.js\"></script><script type=\"text/javascript\" src=\"//j5.dfcfw.com/sc/js/default/jump_tracker_config.min.js\" charset=\"UTF-8\"></script><script type=\"text/javascript\" src=\"https://bdstatics.eastmoney.com/web/prd/jump_tracker.js\" charset=\"UTF-8\"></script><script src=\"//j5.dfcfw.com/sc/js/default/replacegb_min_20200410.js\"></script></div>\n</div>\n\n\n<script>\n    _cpyno = \"c1\";\n    var rightAd_bodywidth = 1000; //网页主体宽度\n    var rightAd_fixedwidth = 150; //模块占用宽度,一般不变\n    var rightAd_width = 135; //模块iframe实际宽度,一般不变\n    var rightAd_height = 1861; //模块iframe实际高度,一般不变\n    var rightAd_top = 50; //模块距顶部top值\n    var rightAd_zindex = 0; //模块z-index值\n    var rightAd_url = '//fundact.eastmoney.com/banner/hot_em.html?spm=001001.rw'; //内嵌iframe的url\n</script>\n\n<script src=\"//j5.dfcfw.com/j1/js/embasef10.js?v=20111103.js\" type=\"text/javascript\"></script>\n<script src=\"//j5.dfcfw.com/j1/js/hq-fund.js?v=20120615.js\" type=\"text/javascript\"></script>\n<script type=\"text/javascript\" src=\"//fund.eastmoney.com/js/rightAd.js\"></script>\n<script type=\"text/javascript\" src=\"//j5.dfcfw.com/js/data/jquery_183min_20140312171610.js\"></script>\n<script type=\"text/javascript\" src=\"//fund.eastmoney.com/webcommon/js/FundCommonPage.min.js\"></script>\n<script src=\"//j5.dfcfw.com/js/f10/f10_min_20200220153807.js\"></script>\n<script type=\"text/javascript\" src=\"//j5.dfcfw.com/js/f10/fundminisearchcom_min_20181207111845.js\"></script>\n\n<script src=\"//f1.dfcfw.com/??js/searchbox.js\"></script>\n<script type=\"text/javascript\">\n\n    jQuery(document).ready(function () {\n        dtClickEvent();\n    });\n    /* 公司同系基金 */\n    (function sameCompanyEvent() {\n        try {\n            var as = $(\"scompany\").getElementsByTagName(\"a\");\n            var _ov = function (e) {\n                var eO = $E(e);\n                eO.parentNode.className = \"at\";\n            }\n            var _ou = function (e) {\n                var eO = $E(e);\n                eO.parentNode.className = \"\";\n            }\n            for (var i = 0; i < as.length; i++) {\n                $aE(as[i], \"mouseover\", _ov, true);\n                $aE(as[i], \"mouseout\", _ou, true);\n            }\n        } catch (ex) { }\n    })();\n</script>\n\n    <script type=\"text/javascript\">\n        //LoadFundSelect(\"jjlist\", \"jjgg\");\n        //ChkSelectItem(\"jjlist\", \"881007\");\n        (function ($) {\n            $(\"#search-input1\").fundsearchbox({\n                cols: [\"_id\", \"NAME\", \"CODE\", \"NAME\"],\n                width: \"257px\",\n                url: 'https://fundsuggest.eastmoney.com/FundSearch/api/FundSearchAPI.ashx?callback=?&m=10&t=700&IsNeedBaseInfo=0&IsNeedZTInfo=0&key=',\n                    onSelectFund: function (e) {\n                        window.open(\"//fundf10.eastmoney.com/jjgg_\" + e.CODE + \".html\");\n\n                    }\n                })\n            \n        })(jQuery);\n        var params = { code: strbzdm, pindex: 1, pernum: 20, type: 0 };\n        switchLinkEvent(\"ggtab\", \"li\", strtype, \"at\", function () { return { _param: params, _init: LoadJJGG } });\n    </script>\n    <script type=\"text/javascript\" src=\"//j5.dfcfw.com/libs/js/counter.js\"></script>\n</body>\n</html>\n\n"
     ]
    }
   ],
   "source": [
    "print(page_context)"
   ]
  },
  {
   "cell_type": "code",
   "execution_count": null,
   "metadata": {},
   "outputs": [],
   "source": []
  }
 ]
}