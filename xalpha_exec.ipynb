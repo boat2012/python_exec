{
 "nbformat": 4,
 "nbformat_minor": 2,
 "metadata": {
  "language_info": {
   "name": "python",
   "codemirror_mode": {
    "name": "ipython",
    "version": 3
   },
   "version": "3.6.5-final"
  },
  "orig_nbformat": 2,
  "file_extension": ".py",
  "mimetype": "text/x-python",
  "name": "python",
  "npconvert_exporter": "python",
  "pygments_lexer": "ipython3",
  "version": 3,
  "kernelspec": {
   "name": "python3",
   "display_name": "Python 3",
   "language": "python"
  }
 },
 "cells": [
  {
   "source": [
    "xalpha 使用 \n",
    "\n",
    "[参考网址](https://nbviewer.jupyter.org/github/refraction-ray/xalpha/blob/master/doc/samples/policy.ipynb)\n"
   ],
   "cell_type": "markdown",
   "metadata": {}
  },
  {
   "cell_type": "code",
   "execution_count": 29,
   "metadata": {},
   "outputs": [],
   "source": [
    " import xalpha as xa\n",
    " import pandas as pd"
   ]
  },
  {
   "cell_type": "code",
   "execution_count": null,
   "metadata": {},
   "outputs": [],
   "source": [
    "jshs = xa.fundinfo('000311')"
   ]
  },
  {
   "cell_type": "code",
   "execution_count": null,
   "metadata": {},
   "outputs": [],
   "source": [
    "bah = xa.policy.buyandhold(jshs, start='2017-01-01', totmoney=100000)\n",
    "# 简单的一次性买入类，从 start 日买入后就一直持有，始终选择分红再投入"
   ]
  },
  {
   "cell_type": "code",
   "execution_count": 52,
   "metadata": {},
   "outputs": [],
   "source": [
    " jshs = xa.fundinfo('007490')   # 获得基金信息\n",
    " jshs.get_stock_holdings(2020,4)   # 基金某一季度的持仓"
   ]
  },
  {
   "cell_type": "code",
   "execution_count": 62,
   "metadata": {},
   "outputs": [
    {
     "output_type": "stream",
     "name": "stdout",
     "text": [
      "fund name: 南方信息创新混合A\nfund code: 007490\nfund purchase fee: 0.15%\nfund redemption fee info: ['小于7天', '1.50%', '大于等于7天，小于30天', '0.75%', '大于等于30天，小于1年', '0.50%', '大于等于1年，小于2年', '0.30%', '大于等于2年', '0.00%']\n"
     ]
    }
   ],
   "source": [
    "# df = jshs.get_stock_holdings(\"2020\",\"4\")\n",
    "jshs.info()"
   ]
  },
  {
   "cell_type": "code",
   "execution_count": 60,
   "metadata": {},
   "outputs": [
    {
     "output_type": "execute_result",
     "data": {
      "text/plain": [
       "     code name  ratio   share     value\n",
       "4  300502  新易盛   6.56  769.68  41269.32"
      ],
      "text/html": "<div>\n<style scoped>\n    .dataframe tbody tr th:only-of-type {\n        vertical-align: middle;\n    }\n\n    .dataframe tbody tr th {\n        vertical-align: top;\n    }\n\n    .dataframe thead th {\n        text-align: right;\n    }\n</style>\n<table border=\"1\" class=\"dataframe\">\n  <thead>\n    <tr style=\"text-align: right;\">\n      <th></th>\n      <th>code</th>\n      <th>name</th>\n      <th>ratio</th>\n      <th>share</th>\n      <th>value</th>\n    </tr>\n  </thead>\n  <tbody>\n    <tr>\n      <th>4</th>\n      <td>300502</td>\n      <td>新易盛</td>\n      <td>6.56</td>\n      <td>769.68</td>\n      <td>41269.32</td>\n    </tr>\n  </tbody>\n</table>\n</div>"
     },
     "metadata": {},
     "execution_count": 60
    }
   ],
   "source": [
    "df.loc[df.code==\"300502\"]"
   ]
  },
  {
   "cell_type": "code",
   "execution_count": 4,
   "metadata": {},
   "outputs": [
    {
     "output_type": "error",
     "ename": "AttributeError",
     "evalue": "'NoneType' object has no attribute 'loc'",
     "traceback": [
      "\u001b[1;31m---------------------------------------------------------------------------\u001b[0m",
      "\u001b[1;31mAttributeError\u001b[0m                            Traceback (most recent call last)",
      "\u001b[1;32m<ipython-input-4-e2c0f06519a8>\u001b[0m in \u001b[0;36m<module>\u001b[1;34m()\u001b[0m\n\u001b[0;32m      1\u001b[0m \u001b[0mrow_list\u001b[0m \u001b[1;33m=\u001b[0m \u001b[1;33m[\u001b[0m\u001b[1;33m]\u001b[0m\u001b[1;33m\u001b[0m\u001b[0m\n\u001b[1;32m----> 2\u001b[1;33m \u001b[1;32mfor\u001b[0m \u001b[0mindex\u001b[0m\u001b[1;33m,\u001b[0m\u001b[0mrows\u001b[0m \u001b[1;32min\u001b[0m \u001b[0mdf\u001b[0m\u001b[1;33m.\u001b[0m\u001b[0mloc\u001b[0m\u001b[1;33m[\u001b[0m\u001b[0mdf\u001b[0m\u001b[1;33m.\u001b[0m\u001b[0mcode\u001b[0m\u001b[1;33m==\u001b[0m\u001b[1;34m\"300502\"\u001b[0m\u001b[1;33m]\u001b[0m\u001b[1;33m.\u001b[0m\u001b[0miterrows\u001b[0m\u001b[1;33m(\u001b[0m\u001b[1;33m)\u001b[0m\u001b[1;33m:\u001b[0m\u001b[1;33m\u001b[0m\u001b[0m\n\u001b[0m\u001b[0;32m      3\u001b[0m     \u001b[0mmy_list\u001b[0m \u001b[1;33m=\u001b[0m \u001b[1;33m[\u001b[0m\u001b[0mrows\u001b[0m\u001b[1;33m.\u001b[0m\u001b[0mcode\u001b[0m\u001b[1;33m,\u001b[0m\u001b[0mrows\u001b[0m\u001b[1;33m.\u001b[0m\u001b[0mname\u001b[0m\u001b[1;33m,\u001b[0m\u001b[0mrows\u001b[0m\u001b[1;33m.\u001b[0m\u001b[0mratio\u001b[0m\u001b[1;33m,\u001b[0m\u001b[0mrows\u001b[0m\u001b[1;33m.\u001b[0m\u001b[0mshare\u001b[0m\u001b[1;33m,\u001b[0m\u001b[0mrows\u001b[0m\u001b[1;33m.\u001b[0m\u001b[0mvalue\u001b[0m\u001b[1;33m]\u001b[0m\u001b[1;33m\u001b[0m\u001b[0m\n\u001b[0;32m      4\u001b[0m     \u001b[0mprint\u001b[0m\u001b[1;33m(\u001b[0m\u001b[0mrows\u001b[0m\u001b[1;33m.\u001b[0m\u001b[0mname\u001b[0m\u001b[1;33m)\u001b[0m\u001b[1;33m\u001b[0m\u001b[0m\n\u001b[0;32m      5\u001b[0m     \u001b[0mprint\u001b[0m\u001b[1;33m(\u001b[0m\u001b[0mrows\u001b[0m\u001b[1;33m[\u001b[0m\u001b[1;34m\"name\"\u001b[0m\u001b[1;33m]\u001b[0m\u001b[1;33m)\u001b[0m\u001b[1;33m\u001b[0m\u001b[0m\n",
      "\u001b[1;31mAttributeError\u001b[0m: 'NoneType' object has no attribute 'loc'"
     ]
    }
   ],
   "source": [
    "row_list = []\n",
    "for index,rows in df.loc[df.code==\"300502\"].iterrows():\n",
    "    my_list = [rows.code,rows.name,rows.ratio,rows.share,rows.value]\n",
    "    print(rows.name)\n",
    "    print(rows[\"name\"])\n",
    "    print(rows.code)\n",
    "    row_list.append(my_list)\n",
    "print(row_list)"
   ]
  },
  {
   "cell_type": "code",
   "execution_count": null,
   "metadata": {},
   "outputs": [],
   "source": [
    "df.loc[df.code==\"300502\"]"
   ]
  },
  {
   "cell_type": "code",
   "execution_count": null,
   "metadata": {},
   "outputs": [],
   "source": [
    "#df3 = jshs.get_stock_holdings(2020,3)\n",
    "df_result = df3.loc[df3.code==\"300502\"]"
   ]
  },
  {
   "cell_type": "code",
   "execution_count": null,
   "metadata": {},
   "outputs": [],
   "source": [
    "df_result.to_csv()"
   ]
  },
  {
   "cell_type": "code",
   "execution_count": null,
   "metadata": {},
   "outputs": [],
   "source": [
    "bah.status\n",
    "# 第二三列表示此两日恰为分红日，选择了分红再投入"
   ]
  },
  {
   "cell_type": "code",
   "execution_count": null,
   "metadata": {},
   "outputs": [],
   "source": [
    "jshs.fenhongdate\n",
    "# 验证该两日确实分红"
   ]
  },
  {
   "cell_type": "code",
   "execution_count": null,
   "metadata": {},
   "outputs": [],
   "source": [
    "bah.sellout('2018-06-01') # 选定日期全部卖出"
   ]
  },
  {
   "cell_type": "code",
   "execution_count": null,
   "metadata": {},
   "outputs": [],
   "source": [
    "bah.status\n"
   ]
  },
  {
   "cell_type": "code",
   "execution_count": null,
   "metadata": {},
   "outputs": [],
   "source": [
    "jshstrade = xa.trade(jshs,bah.status)"
   ]
  },
  {
   "cell_type": "code",
   "execution_count": null,
   "metadata": {},
   "outputs": [],
   "source": [
    "jshstrade.xirrrate()"
   ]
  },
  {
   "cell_type": "code",
   "execution_count": 68,
   "metadata": {
    "tags": []
   },
   "outputs": [
    {
     "output_type": "stream",
     "name": "stdout",
     "text": [
      "start:\n2021-04-06 23:28:00.836139\nfunds sum:12347\n12347\n"
     ]
    }
   ],
   "source": [
    "# 从东财获得所有的基金代码\n",
    "\n",
    "from urllib.request import urlopen\n",
    "import time\n",
    "import datetime\n",
    "import glob\n",
    "import json\n",
    "import pandas\n",
    "\n",
    "\n",
    "# 今日零时 \n",
    "strtoday = datetime.datetime.strftime(datetime.datetime.now(), '%Y-%m-%d')\n",
    "tdatetime = datetime.datetime.strptime(strtoday, '%Y-%m-%d')\n",
    "\n",
    "fundlist_files = glob.glob('fundlist-*.txt')\n",
    "if (len(fundlist_files) > 0) :\n",
    "    # print fundlist_files[0]\n",
    "    # 读取文件内容\n",
    "    file_object = open(fundlist_files[0], 'r',encoding=\"utf8\")\n",
    "    try:\n",
    "        all_funds_txt = file_object.read()\n",
    "        #print all_funds_txt\n",
    "    finally:\n",
    "        file_object.close()\n",
    "else:\n",
    "    response_all_funds = urlopen('http://fund.eastmoney.com/js/fundcode_search.js')\n",
    "    all_funds_txt = response_all_funds.read().decode(\"utf8\")\n",
    "            #存文件\n",
    "    file_object = open('fundlist-' + strtoday + '.txt', 'w',encoding=\"utf8\")\n",
    "    try:\n",
    "        file_object.write(all_funds_txt)\n",
    "        #print all_funds_txt\n",
    "    finally:\n",
    "        file_object.close()\n",
    "\n",
    "\t#处理数据 将其转化为list\n",
    "all_funds_txt = all_funds_txt[all_funds_txt.find('=')+2:all_funds_txt.rfind(';')]\n",
    "all_funds_list = json.loads(all_funds_txt)\n",
    "    \n",
    "print('start:')\n",
    "print(datetime.datetime.now())\n",
    "print('funds sum:' + str(len(all_funds_list)))\n",
    "\n",
    "# 4 循环处理每个基金\n",
    "# for fund in all_funds_list:\n",
    "#     print(fund)\n",
    "print(len(all_funds_list))"
   ]
  },
  {
   "cell_type": "code",
   "execution_count": null,
   "metadata": {},
   "outputs": [],
   "source": [
    "import pandas as pd"
   ]
  },
  {
   "cell_type": "code",
   "execution_count": 70,
   "metadata": {},
   "outputs": [],
   "source": [
    "df_fund_list = pd.DataFrame(all_funds_list,columns=[\"code\",\"jc\",\"name\",\"type\",\"py\"])  # 将基金转为DF"
   ]
  },
  {
   "cell_type": "code",
   "execution_count": 71,
   "metadata": {},
   "outputs": [
    {
     "output_type": "execute_result",
     "data": {
      "text/plain": [
       "          code    jc  name    py\n",
       "type                            \n",
       "ETF-场内     413   413   413   413\n",
       "QDII       218   218   218   218\n",
       "QDII-ETF    23    23    23    23\n",
       "QDII-指数     88    88    88    88\n",
       "债券型       2508  2508  2508  2508\n",
       "债券指数       260   260   260   260\n",
       "定开债券      1098  1098  1098  1098\n",
       "混合-FOF     194   194   194   194\n",
       "混合型       5176  5176  5176  5176\n",
       "理财型          8     8     8     8\n",
       "联接基金       395   395   395   395\n",
       "股票-FOF       1     1     1     1\n",
       "股票型        637   637   637   637\n",
       "股票指数       627   627   627   627\n",
       "货币型        701   701   701   701"
      ],
      "text/html": "<div>\n<style scoped>\n    .dataframe tbody tr th:only-of-type {\n        vertical-align: middle;\n    }\n\n    .dataframe tbody tr th {\n        vertical-align: top;\n    }\n\n    .dataframe thead th {\n        text-align: right;\n    }\n</style>\n<table border=\"1\" class=\"dataframe\">\n  <thead>\n    <tr style=\"text-align: right;\">\n      <th></th>\n      <th>code</th>\n      <th>jc</th>\n      <th>name</th>\n      <th>py</th>\n    </tr>\n    <tr>\n      <th>type</th>\n      <th></th>\n      <th></th>\n      <th></th>\n      <th></th>\n    </tr>\n  </thead>\n  <tbody>\n    <tr>\n      <th>ETF-场内</th>\n      <td>413</td>\n      <td>413</td>\n      <td>413</td>\n      <td>413</td>\n    </tr>\n    <tr>\n      <th>QDII</th>\n      <td>218</td>\n      <td>218</td>\n      <td>218</td>\n      <td>218</td>\n    </tr>\n    <tr>\n      <th>QDII-ETF</th>\n      <td>23</td>\n      <td>23</td>\n      <td>23</td>\n      <td>23</td>\n    </tr>\n    <tr>\n      <th>QDII-指数</th>\n      <td>88</td>\n      <td>88</td>\n      <td>88</td>\n      <td>88</td>\n    </tr>\n    <tr>\n      <th>债券型</th>\n      <td>2508</td>\n      <td>2508</td>\n      <td>2508</td>\n      <td>2508</td>\n    </tr>\n    <tr>\n      <th>债券指数</th>\n      <td>260</td>\n      <td>260</td>\n      <td>260</td>\n      <td>260</td>\n    </tr>\n    <tr>\n      <th>定开债券</th>\n      <td>1098</td>\n      <td>1098</td>\n      <td>1098</td>\n      <td>1098</td>\n    </tr>\n    <tr>\n      <th>混合-FOF</th>\n      <td>194</td>\n      <td>194</td>\n      <td>194</td>\n      <td>194</td>\n    </tr>\n    <tr>\n      <th>混合型</th>\n      <td>5176</td>\n      <td>5176</td>\n      <td>5176</td>\n      <td>5176</td>\n    </tr>\n    <tr>\n      <th>理财型</th>\n      <td>8</td>\n      <td>8</td>\n      <td>8</td>\n      <td>8</td>\n    </tr>\n    <tr>\n      <th>联接基金</th>\n      <td>395</td>\n      <td>395</td>\n      <td>395</td>\n      <td>395</td>\n    </tr>\n    <tr>\n      <th>股票-FOF</th>\n      <td>1</td>\n      <td>1</td>\n      <td>1</td>\n      <td>1</td>\n    </tr>\n    <tr>\n      <th>股票型</th>\n      <td>637</td>\n      <td>637</td>\n      <td>637</td>\n      <td>637</td>\n    </tr>\n    <tr>\n      <th>股票指数</th>\n      <td>627</td>\n      <td>627</td>\n      <td>627</td>\n      <td>627</td>\n    </tr>\n    <tr>\n      <th>货币型</th>\n      <td>701</td>\n      <td>701</td>\n      <td>701</td>\n      <td>701</td>\n    </tr>\n  </tbody>\n</table>\n</div>"
     },
     "metadata": {},
     "execution_count": 71
    }
   ],
   "source": [
    "df_fund_list.groupby(\"type\").count()  # 计算不同类型基金的数量"
   ]
  },
  {
   "cell_type": "code",
   "execution_count": null,
   "metadata": {},
   "outputs": [],
   "source": [
    "## 想看持仓的话，只需要看混合型 与股票型 、股票批数基金\n"
   ]
  },
  {
   "cell_type": "code",
   "execution_count": null,
   "metadata": {},
   "outputs": [],
   "source": [
    "len(df_fund_list[df_fund_list.type.isin()])"
   ]
  },
  {
   "cell_type": "code",
   "execution_count": 73,
   "metadata": {},
   "outputs": [
    {
     "output_type": "stream",
     "name": "stdout",
     "text": [
      "6440\n"
     ]
    }
   ],
   "source": [
    "mytype = [\"混合型\",\"股票型\",\"股票指数\"]  # 想要筛选的基金类型\n",
    "print(len(df_fund_list[df_fund_list.type.isin(mytype)]))"
   ]
  },
  {
   "cell_type": "code",
   "execution_count": null,
   "metadata": {},
   "outputs": [],
   "source": [
    "df_fund_list[df_fund_list.type.isin(mytype)].head()"
   ]
  },
  {
   "cell_type": "code",
   "execution_count": 75,
   "metadata": {
    "tags": []
   },
   "outputs": [
    {
     "output_type": "stream",
     "name": "stdout",
     "text": [
      "6440\n"
     ]
    },
    {
     "output_type": "display_data",
     "data": {
      "text/plain": "  0%|          | 0/6440 [00:00<?, ?it/s]",
      "application/vnd.jupyter.widget-view+json": {
       "version_major": 2,
       "version_minor": 0,
       "model_id": "c96c48cf6887484f9a2a1a7f8d577e41"
      }
     },
     "metadata": {}
    },
    {
     "output_type": "stream",
     "name": "stdout",
     "text": [
      "000002  error\n",
      "000012  error\n",
      "000154  error\n",
      "000155  error\n",
      "000158  error\n",
      "000159  error\n",
      "000161  error\n",
      "000219  error\n"
     ]
    }
   ],
   "source": [
    "from tqdm.notebook import tqdm\n",
    "df = df_fund_list[df_fund_list.type.isin(mytype)]\n",
    "print(len(df))\n",
    "pbar = tqdm(total = len(df))\n",
    "row_list = []\n",
    "\n",
    "for index1,rows1 in df.iterrows():\n",
    "    pbar.update(1)\n",
    "    #print(rows1.code)\n",
    "    #print(rows1.code,rows1[\"name\"])\n",
    "    check_fund(rows1.code,rows1[\"name\"])\n",
    "print(row_list)\n",
    "    "
   ]
  },
  {
   "cell_type": "code",
   "execution_count": 64,
   "metadata": {},
   "outputs": [],
   "source": [
    "def check_fund(fundcode,fundname): \n",
    "    try:\n",
    "        jjxx = xa.fundinfo(fundcode)   # 获得基金信息\n",
    "        dftemp = jjxx.get_stock_holdings(\"2020\",\"4\")   # 基金某一季度的持仓\n",
    "\n",
    "        for index,rows in dftemp.loc[dftemp.code==\"300502\"].iterrows():\n",
    "            my_list = [rows.code,rows[\"name\"],rows.ratio,rows.share,rows.value,fundcode,fundname]\n",
    "            # print(rows.name)\n",
    "            # print(rows[\"name\"])\n",
    "            # print(rows.code)\n",
    "            row_list.append(my_list)\n",
    "            #mylist.to_csv()\n",
    "    except:\n",
    "        print(fundcode,\" error\")\n",
    "check_fund(\"007490\",\"南方信息创新混合A\")\n",
    "\n",
    "#fund name: 南方信息创新混合A\n",
    "#fund code: 007490"
   ]
  },
  {
   "cell_type": "code",
   "execution_count": 65,
   "metadata": {},
   "outputs": [
    {
     "output_type": "stream",
     "name": "stdout",
     "text": [
      "[['300502', '新易盛', 6.56, 769.68, 41269.32, '007490', '南方信息创新混合A'], ['300502', '新易盛', 6.56, 769.68, 41269.32, '007490', '南方信息创新混合A']]\n"
     ]
    }
   ],
   "source": [
    "print(row_list)"
   ]
  },
  {
   "source": [
    "### 300502的基金持仓信息\n",
    "#http://data.eastmoney.com/zlsj/detail/2020-12-31-0-300502.html"
   ],
   "cell_type": "markdown",
   "metadata": {}
  },
  {
   "cell_type": "code",
   "execution_count": null,
   "metadata": {},
   "outputs": [],
   "source": []
  }
 ]
}