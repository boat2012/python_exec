{
    "cells": [
        {
            "cell_type": "markdown",
            "source": [
                "## 当当网分类数据收集\r\n",
                "2021年8月5日"
            ],
            "metadata": {}
        },
        {
            "cell_type": "markdown",
            "source": [
                "第一个：\r\n",
                "\r\n",
                "新书排行榜-近24小时新书热卖榜-当当最新图书排行榜 (dangdang.com)\r\n",
                "\r\n",
                "http://bang.dangdang.com/books/newhotsales/01.00.00.00.00.00-24hours-0-0-1-1\r\n",
                "\r\n",
                "根据今年1-7月的新书排行榜\r\n",
                "1.\t按单月分别整理出哪个门类的图书最受欢迎，（类别只需细化到第一级，如可能摘录第二级的信息备用），并附带数量占比图，及每个类别最高销量图书数额。\r\n",
                "2.\t根据单月的数据，整理出1-7月每个类别的销售曲线图。\r\n",
                "3.\t提取在榜图书的推荐语词云（包括图书推荐语和媒体评论），可以分为单月词云和1-7月词云。\r\n",
                "4.\t分析图书价格区间，按20以下、20-30、40-50、50以上，这几个区间。\r\n",
                "\r\n",
                "\r\n",
                "第二个：\r\n",
                "\r\n",
                "科普读物新书排行榜-近7日新书热卖榜-当当最新图书排行榜 (dangdang.com)\r\n",
                "\r\n",
                "http://bang.dangdang.com/books/newhotsales/01.52.00.00.00.00-recent7-0-0-1-1\r\n",
                "\r\n",
                "根据2017-2021年科普读物新书排行榜\r\n",
                "1.\t统计2017-2021年（2021只统计1-7月）数据，分析国内、国外图书比例，按年份整理出占比图。\r\n",
                "2.\t按年分别整理出哪个门类的图书最受欢迎，（类别需细化到第二级，如有第三级信息摘录备用），并附带数量占比图，及每个类别最高销量图书数额。\r\n",
                "3.\t提取在榜图书的推荐语词云（包括图书推荐语和媒体评论），按年份划分。\r\n",
                "4.\t分析图书价格区间，按20以下、20-30、40-50、50以上，这几个区间。\r\n"
            ],
            "metadata": {}
        },
        {
            "cell_type": "code",
            "execution_count": 16,
            "source": [
                "import requests\r\n",
                "from bs4 import BeautifulSoup\r\n",
                "header = {\"User-Agent\": 'Mozilla/5.0 (Windows NT 10.0; Win64; x64) AppleWebKit/537.36 (KHTML, like Gecko) '\r\n",
                "                                'Chrome/78.0.3904.108 Safari/537.36'}"
            ],
            "outputs": [],
            "metadata": {}
        },
        {
            "cell_type": "code",
            "execution_count": 2,
            "source": [
                "url = \"http://bang.dangdang.com/books/newhotsales/01.00.00.00.00.00-month-2021-1-1-1\"\r\n",
                "page = requests.get(url, headers=header)\r\n",
                "page_content = page.text"
            ],
            "outputs": [],
            "metadata": {}
        },
        {
            "cell_type": "code",
            "execution_count": 15,
            "source": [
                "with open('2021年8月5日temp.html', 'w',encoding=\"utf-8\") as f:\r\n",
                "    f.write(page_content)"
            ],
            "outputs": [],
            "metadata": {}
        },
        {
            "cell_type": "code",
            "execution_count": 25,
            "source": [
                "soup = BeautifulSoup(page_content,\"html.parser\")"
            ],
            "outputs": [],
            "metadata": {}
        },
        {
            "cell_type": "code",
            "execution_count": 28,
            "source": [
                "ph = soup.find_all('div',class_=\"side_nav\")"
            ],
            "outputs": [],
            "metadata": {}
        },
        {
            "cell_type": "code",
            "execution_count": 35,
            "source": [
                "for i in ph:\r\n",
                "    print(i.text.strip())"
            ],
            "outputs": [
                {
                    "output_type": "stream",
                    "name": "stdout",
                    "text": [
                        "童书\n",
                        "中小学教辅\n",
                        "小说\n",
                        "文学\n",
                        "成功/励志\n",
                        "历史\n",
                        "外语\n",
                        "心理学\n",
                        "哲学/宗教\n",
                        "管理\n",
                        "艺术\n",
                        "考试\n",
                        "亲子/家教\n",
                        "科普读物\n",
                        "传记\n",
                        "青春文学\n",
                        "政治/军事\n",
                        "教材\n",
                        "社会科学\n",
                        "古籍\n",
                        "动漫/幽默\n",
                        "保健/养生\n",
                        "计算机/网络\n",
                        "文化\n",
                        "旅游/地图\n",
                        "法律\n",
                        "医学\n",
                        "经济\n",
                        "投资理财\n",
                        "工业技术\n",
                        "育儿/早教\n",
                        "烹饪/美食\n",
                        "建筑\n",
                        "体育/运动\n",
                        "自然科学\n",
                        "孕产/胎教\n",
                        "工具书\n",
                        "两性关系\n",
                        "家庭/家居\n",
                        "休闲/爱好\n",
                        "时尚/美妆\n",
                        "手工/DIY\n",
                        "农业/林业\n",
                        "英文原版书\n",
                        "图书畅销榜\n",
                        "新书热卖榜\n",
                        "童书榜\n",
                        "热搜榜\n",
                        "好评榜\n",
                        "飙升榜\n",
                        "特价榜\n",
                        "电子书畅销榜\n",
                        "电子书新书热卖榜\n",
                        "音乐畅销榜\n",
                        "影视畅销榜\n",
                        "百货畅销榜\n"
                    ]
                }
            ],
            "metadata": {}
        },
        {
            "cell_type": "code",
            "execution_count": null,
            "source": [],
            "outputs": [],
            "metadata": {}
        }
    ],
    "metadata": {
        "orig_nbformat": 4,
        "language_info": {
            "name": "python",
            "version": "3.6.5",
            "mimetype": "text/x-python",
            "codemirror_mode": {
                "name": "ipython",
                "version": 3
            },
            "pygments_lexer": "ipython3",
            "nbconvert_exporter": "python",
            "file_extension": ".py"
        },
        "kernelspec": {
            "name": "python3",
            "display_name": "Python 3.6.5 64-bit ('base': conda)"
        },
        "interpreter": {
            "hash": "26ac3042b0ef4f715e51e43b66ed3d101718a7e45dfc231f31acdb384adb79cc"
        }
    },
    "nbformat": 4,
    "nbformat_minor": 2
}